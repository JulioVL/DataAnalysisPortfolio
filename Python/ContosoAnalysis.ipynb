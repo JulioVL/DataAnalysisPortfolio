{
    "cells": [
        {
            "cell_type": "markdown",
            "source": [
                "# CONTOSO DATAWAREHOUSE ANALYSIS\r\n",
                "#### Author: Julio Venero\r\n",
                "*July, 2021*"
            ],
            "metadata": {}
        },
        {
            "cell_type": "markdown",
            "source": [
                "The data used for this case is the Contoso dataset provided by **Microsoft**\r\n",
                "\r\n",
                "The Contoso Corporation is a multinational fictive business with its headquarters in Paris. The company is a manufacturing, sales, and support organization with more than 100,000 products.\r\n",
                "\r\n",
                "For more information, click this [link](https://docs.microsoft.com/en-us/microsoft-365/enterprise/contoso-overview?view=o365-worldwide)"
            ],
            "metadata": {}
        },
        {
            "cell_type": "markdown",
            "source": [
                "## Import the necessary libraries"
            ],
            "metadata": {}
        },
        {
            "cell_type": "markdown",
            "source": [
                "* pyodbc to connect and query the data in the database\r\n",
                "* pandas for data manipulation\r\n",
                "* numpy for math functions\r\n",
                "* missingno to visualize missing data\r\n",
                "* matplotlib and seaborn for visualization"
            ],
            "metadata": {}
        },
        {
            "cell_type": "code",
            "execution_count": 1,
            "source": [
                "import pyodbc\r\n",
                "import pandas as pd\r\n",
                "import numpy as np\r\n",
                "import missingno as msno\r\n",
                "import matplotlib.pyplot as plt\r\n",
                "import seaborn as sns"
            ],
            "outputs": [],
            "metadata": {}
        },
        {
            "cell_type": "markdown",
            "source": [
                "## Connect to SQL Server Database"
            ],
            "metadata": {}
        },
        {
            "cell_type": "markdown",
            "source": [
                "Define the connection string"
            ],
            "metadata": {}
        },
        {
            "cell_type": "code",
            "execution_count": 2,
            "source": [
                "conn_str = (\"Driver={SQL Server Native Client 11.0};\"\r\n",
                "            \"Server=LAPTOP-BAL2VKNS;\"\r\n",
                "            \"Database=ContosoDW;\"\r\n",
                "            \"Trusted_Connection=yes;\")"
            ],
            "outputs": [],
            "metadata": {}
        },
        {
            "cell_type": "markdown",
            "source": [
                "Initialize the connection"
            ],
            "metadata": {}
        },
        {
            "cell_type": "code",
            "execution_count": 3,
            "source": [
                "conn = pyodbc.connect(conn_str)"
            ],
            "outputs": [],
            "metadata": {}
        },
        {
            "cell_type": "markdown",
            "source": [
                "## Import query result to dataframe"
            ],
            "metadata": {}
        },
        {
            "cell_type": "markdown",
            "source": [
                "For this case, we will only import the data from:\r\n",
                "* Customers\r\n",
                "* Products (with subcaterogy and category)\r\n",
                "* Sales"
            ],
            "metadata": {}
        },
        {
            "cell_type": "code",
            "execution_count": 4,
            "source": [
                "# Products\r\n",
                "products = pd.read_sql(\"SELECT * FROM dbo.DimProduct\", conn)\r\n",
                "prodSubCat = pd.read_sql(\"SELECT * FROM dbo.DimProductSubcategory\", conn)\r\n",
                "prodCat = pd.read_sql(\"SELECT * FROM dbo.DimProductCategory\", conn)"
            ],
            "outputs": [],
            "metadata": {}
        },
        {
            "cell_type": "code",
            "execution_count": 5,
            "source": [
                "# Sales\r\n",
                "sales = pd.read_sql(\"SELECT * FROM dbo.FactSales\", conn)"
            ],
            "outputs": [],
            "metadata": {}
        },
        {
            "cell_type": "markdown",
            "source": [
                "The data is ready, let's explore the tables"
            ],
            "metadata": {}
        },
        {
            "cell_type": "markdown",
            "source": [
                "PRODUCTS"
            ],
            "metadata": {}
        },
        {
            "cell_type": "code",
            "execution_count": 6,
            "source": [
                "products.head()"
            ],
            "outputs": [
                {
                    "output_type": "execute_result",
                    "data": {
                        "text/plain": [
                            "   ProductKey ProductLabel                          ProductName  \\\n",
                            "0           1      0101001  Contoso 512MB MP3 Player E51 Silver   \n",
                            "1           2      0101002    Contoso 512MB MP3 Player E51 Blue   \n",
                            "2           3      0101003     Contoso 1G MP3 Player E100 White   \n",
                            "3           4      0101004    Contoso 2G MP3 Player E200 Silver   \n",
                            "4           5      0101005       Contoso 2G MP3 Player E200 Red   \n",
                            "\n",
                            "                                  ProductDescription  ProductSubcategoryKey  \\\n",
                            "0                 512MB USB driver plays MP3 and WMA                      1   \n",
                            "1                 512MB USB driver plays MP3 and WMA                      1   \n",
                            "2  1GB flash memory and USB driver plays MP3 and WMA                      1   \n",
                            "3   2GB flash memory, LCD display, plays MP3 and WMA                      1   \n",
                            "4   2GB flash memory, LCD display, plays MP3 and WMA                      1   \n",
                            "\n",
                            "   Manufacturer BrandName ClassID ClassName StyleID  ... UnitCost UnitPrice  \\\n",
                            "0  Contoso, Ltd   Contoso       1   Economy       1  ...     6.62     12.99   \n",
                            "1  Contoso, Ltd   Contoso       1   Economy       5  ...     6.62     12.99   \n",
                            "2  Contoso, Ltd   Contoso       1   Economy       1  ...     7.40     14.52   \n",
                            "3  Contoso, Ltd   Contoso       1   Economy       1  ...    11.00     21.57   \n",
                            "4  Contoso, Ltd   Contoso       1   Economy       1  ...    11.00     21.57   \n",
                            "\n",
                            "  AvailableForSaleDate StopSaleDate Status ImageURL  ProductURL ETLLoadID  \\\n",
                            "0           2005-05-03         None     On     None        None         1   \n",
                            "1           2005-05-03         None     On     None        None         1   \n",
                            "2           2006-05-13         None     On     None        None         1   \n",
                            "3           2006-12-16         None     On     None        None         1   \n",
                            "4           2006-12-17         None     On     None        None         1   \n",
                            "\n",
                            "             LoadDate          UpdateDate  \n",
                            "0 2008-05-25 08:01:12 2008-05-25 08:01:12  \n",
                            "1 2008-05-26 08:01:12 2008-05-26 08:01:12  \n",
                            "2 2008-05-27 08:01:12 2008-05-27 08:01:12  \n",
                            "3 2008-05-28 08:01:12 2008-05-28 08:01:12  \n",
                            "4 2008-05-29 08:01:12 2008-05-29 08:01:12  \n",
                            "\n",
                            "[5 rows x 32 columns]"
                        ],
                        "text/html": [
                            "<div>\n",
                            "<style scoped>\n",
                            "    .dataframe tbody tr th:only-of-type {\n",
                            "        vertical-align: middle;\n",
                            "    }\n",
                            "\n",
                            "    .dataframe tbody tr th {\n",
                            "        vertical-align: top;\n",
                            "    }\n",
                            "\n",
                            "    .dataframe thead th {\n",
                            "        text-align: right;\n",
                            "    }\n",
                            "</style>\n",
                            "<table border=\"1\" class=\"dataframe\">\n",
                            "  <thead>\n",
                            "    <tr style=\"text-align: right;\">\n",
                            "      <th></th>\n",
                            "      <th>ProductKey</th>\n",
                            "      <th>ProductLabel</th>\n",
                            "      <th>ProductName</th>\n",
                            "      <th>ProductDescription</th>\n",
                            "      <th>ProductSubcategoryKey</th>\n",
                            "      <th>Manufacturer</th>\n",
                            "      <th>BrandName</th>\n",
                            "      <th>ClassID</th>\n",
                            "      <th>ClassName</th>\n",
                            "      <th>StyleID</th>\n",
                            "      <th>...</th>\n",
                            "      <th>UnitCost</th>\n",
                            "      <th>UnitPrice</th>\n",
                            "      <th>AvailableForSaleDate</th>\n",
                            "      <th>StopSaleDate</th>\n",
                            "      <th>Status</th>\n",
                            "      <th>ImageURL</th>\n",
                            "      <th>ProductURL</th>\n",
                            "      <th>ETLLoadID</th>\n",
                            "      <th>LoadDate</th>\n",
                            "      <th>UpdateDate</th>\n",
                            "    </tr>\n",
                            "  </thead>\n",
                            "  <tbody>\n",
                            "    <tr>\n",
                            "      <th>0</th>\n",
                            "      <td>1</td>\n",
                            "      <td>0101001</td>\n",
                            "      <td>Contoso 512MB MP3 Player E51 Silver</td>\n",
                            "      <td>512MB USB driver plays MP3 and WMA</td>\n",
                            "      <td>1</td>\n",
                            "      <td>Contoso, Ltd</td>\n",
                            "      <td>Contoso</td>\n",
                            "      <td>1</td>\n",
                            "      <td>Economy</td>\n",
                            "      <td>1</td>\n",
                            "      <td>...</td>\n",
                            "      <td>6.62</td>\n",
                            "      <td>12.99</td>\n",
                            "      <td>2005-05-03</td>\n",
                            "      <td>None</td>\n",
                            "      <td>On</td>\n",
                            "      <td>None</td>\n",
                            "      <td>None</td>\n",
                            "      <td>1</td>\n",
                            "      <td>2008-05-25 08:01:12</td>\n",
                            "      <td>2008-05-25 08:01:12</td>\n",
                            "    </tr>\n",
                            "    <tr>\n",
                            "      <th>1</th>\n",
                            "      <td>2</td>\n",
                            "      <td>0101002</td>\n",
                            "      <td>Contoso 512MB MP3 Player E51 Blue</td>\n",
                            "      <td>512MB USB driver plays MP3 and WMA</td>\n",
                            "      <td>1</td>\n",
                            "      <td>Contoso, Ltd</td>\n",
                            "      <td>Contoso</td>\n",
                            "      <td>1</td>\n",
                            "      <td>Economy</td>\n",
                            "      <td>5</td>\n",
                            "      <td>...</td>\n",
                            "      <td>6.62</td>\n",
                            "      <td>12.99</td>\n",
                            "      <td>2005-05-03</td>\n",
                            "      <td>None</td>\n",
                            "      <td>On</td>\n",
                            "      <td>None</td>\n",
                            "      <td>None</td>\n",
                            "      <td>1</td>\n",
                            "      <td>2008-05-26 08:01:12</td>\n",
                            "      <td>2008-05-26 08:01:12</td>\n",
                            "    </tr>\n",
                            "    <tr>\n",
                            "      <th>2</th>\n",
                            "      <td>3</td>\n",
                            "      <td>0101003</td>\n",
                            "      <td>Contoso 1G MP3 Player E100 White</td>\n",
                            "      <td>1GB flash memory and USB driver plays MP3 and WMA</td>\n",
                            "      <td>1</td>\n",
                            "      <td>Contoso, Ltd</td>\n",
                            "      <td>Contoso</td>\n",
                            "      <td>1</td>\n",
                            "      <td>Economy</td>\n",
                            "      <td>1</td>\n",
                            "      <td>...</td>\n",
                            "      <td>7.40</td>\n",
                            "      <td>14.52</td>\n",
                            "      <td>2006-05-13</td>\n",
                            "      <td>None</td>\n",
                            "      <td>On</td>\n",
                            "      <td>None</td>\n",
                            "      <td>None</td>\n",
                            "      <td>1</td>\n",
                            "      <td>2008-05-27 08:01:12</td>\n",
                            "      <td>2008-05-27 08:01:12</td>\n",
                            "    </tr>\n",
                            "    <tr>\n",
                            "      <th>3</th>\n",
                            "      <td>4</td>\n",
                            "      <td>0101004</td>\n",
                            "      <td>Contoso 2G MP3 Player E200 Silver</td>\n",
                            "      <td>2GB flash memory, LCD display, plays MP3 and WMA</td>\n",
                            "      <td>1</td>\n",
                            "      <td>Contoso, Ltd</td>\n",
                            "      <td>Contoso</td>\n",
                            "      <td>1</td>\n",
                            "      <td>Economy</td>\n",
                            "      <td>1</td>\n",
                            "      <td>...</td>\n",
                            "      <td>11.00</td>\n",
                            "      <td>21.57</td>\n",
                            "      <td>2006-12-16</td>\n",
                            "      <td>None</td>\n",
                            "      <td>On</td>\n",
                            "      <td>None</td>\n",
                            "      <td>None</td>\n",
                            "      <td>1</td>\n",
                            "      <td>2008-05-28 08:01:12</td>\n",
                            "      <td>2008-05-28 08:01:12</td>\n",
                            "    </tr>\n",
                            "    <tr>\n",
                            "      <th>4</th>\n",
                            "      <td>5</td>\n",
                            "      <td>0101005</td>\n",
                            "      <td>Contoso 2G MP3 Player E200 Red</td>\n",
                            "      <td>2GB flash memory, LCD display, plays MP3 and WMA</td>\n",
                            "      <td>1</td>\n",
                            "      <td>Contoso, Ltd</td>\n",
                            "      <td>Contoso</td>\n",
                            "      <td>1</td>\n",
                            "      <td>Economy</td>\n",
                            "      <td>1</td>\n",
                            "      <td>...</td>\n",
                            "      <td>11.00</td>\n",
                            "      <td>21.57</td>\n",
                            "      <td>2006-12-17</td>\n",
                            "      <td>None</td>\n",
                            "      <td>On</td>\n",
                            "      <td>None</td>\n",
                            "      <td>None</td>\n",
                            "      <td>1</td>\n",
                            "      <td>2008-05-29 08:01:12</td>\n",
                            "      <td>2008-05-29 08:01:12</td>\n",
                            "    </tr>\n",
                            "  </tbody>\n",
                            "</table>\n",
                            "<p>5 rows × 32 columns</p>\n",
                            "</div>"
                        ]
                    },
                    "metadata": {},
                    "execution_count": 6
                }
            ],
            "metadata": {}
        },
        {
            "cell_type": "code",
            "execution_count": 7,
            "source": [
                "products.info()"
            ],
            "outputs": [
                {
                    "output_type": "stream",
                    "name": "stdout",
                    "text": [
                        "<class 'pandas.core.frame.DataFrame'>\n",
                        "RangeIndex: 2517 entries, 0 to 2516\n",
                        "Data columns (total 32 columns):\n",
                        " #   Column                 Non-Null Count  Dtype         \n",
                        "---  ------                 --------------  -----         \n",
                        " 0   ProductKey             2517 non-null   int64         \n",
                        " 1   ProductLabel           2517 non-null   object        \n",
                        " 2   ProductName            2517 non-null   object        \n",
                        " 3   ProductDescription     2516 non-null   object        \n",
                        " 4   ProductSubcategoryKey  2517 non-null   int64         \n",
                        " 5   Manufacturer           2517 non-null   object        \n",
                        " 6   BrandName              2517 non-null   object        \n",
                        " 7   ClassID                2517 non-null   object        \n",
                        " 8   ClassName              2517 non-null   object        \n",
                        " 9   StyleID                2487 non-null   object        \n",
                        " 10  StyleName              2517 non-null   object        \n",
                        " 11  ColorID                2517 non-null   object        \n",
                        " 12  ColorName              2517 non-null   object        \n",
                        " 13  Size                   1947 non-null   object        \n",
                        " 14  SizeRange              1502 non-null   object        \n",
                        " 15  SizeUnitMeasureID      1525 non-null   object        \n",
                        " 16  Weight                 2233 non-null   float64       \n",
                        " 17  WeightUnitMeasureID    2415 non-null   object        \n",
                        " 18  UnitOfMeasureID        2517 non-null   object        \n",
                        " 19  UnitOfMeasureName      2517 non-null   object        \n",
                        " 20  StockTypeID            2517 non-null   object        \n",
                        " 21  StockTypeName          2517 non-null   object        \n",
                        " 22  UnitCost               2517 non-null   float64       \n",
                        " 23  UnitPrice              2517 non-null   float64       \n",
                        " 24  AvailableForSaleDate   2516 non-null   datetime64[ns]\n",
                        " 25  StopSaleDate           0 non-null      object        \n",
                        " 26  Status                 2222 non-null   object        \n",
                        " 27  ImageURL               0 non-null      object        \n",
                        " 28  ProductURL             0 non-null      object        \n",
                        " 29  ETLLoadID              2517 non-null   int64         \n",
                        " 30  LoadDate               2517 non-null   datetime64[ns]\n",
                        " 31  UpdateDate             2517 non-null   datetime64[ns]\n",
                        "dtypes: datetime64[ns](3), float64(3), int64(3), object(23)\n",
                        "memory usage: 629.4+ KB\n"
                    ]
                }
            ],
            "metadata": {}
        },
        {
            "cell_type": "code",
            "execution_count": 8,
            "source": [
                "msno.matrix(products)"
            ],
            "outputs": [
                {
                    "output_type": "execute_result",
                    "data": {
                        "text/plain": [
                            "<AxesSubplot:>"
                        ]
                    },
                    "metadata": {},
                    "execution_count": 8
                },
                {
                    "output_type": "display_data",
                    "data": {
                        "text/plain": [
                            "<Figure size 1800x720 with 2 Axes>"
                        ],
                        "image/png": "[encoded data removed]"
                    },
                    "metadata": {
                        "needs_background": "light"
                    }
                }
            ],
            "metadata": {}
        },
        {
            "cell_type": "markdown",
            "source": [
                "PRODUCTS SUBCATEGORIES"
            ],
            "metadata": {}
        },
        {
            "cell_type": "code",
            "execution_count": 9,
            "source": [
                "prodSubCat.head()"
            ],
            "outputs": [
                {
                    "output_type": "execute_result",
                    "data": {
                        "text/plain": [
                            "   ProductSubcategoryKey ProductSubcategoryLabel ProductSubcategoryName  \\\n",
                            "0                      1                    0101                MP4&MP3   \n",
                            "1                      2                    0102               Recorder   \n",
                            "2                      3                    0103                  Radio   \n",
                            "3                      4                    0104          Recording Pen   \n",
                            "4                      5                    0105             Headphones   \n",
                            "\n",
                            "  ProductSubcategoryDescription  ProductCategoryKey  ETLLoadID   LoadDate  \\\n",
                            "0                       MP4&MP3                   1          1 2009-07-07   \n",
                            "1                      Recorder                   1          1 2009-07-07   \n",
                            "2                         Radio                   1          1 2009-07-07   \n",
                            "3                 Recording Pen                   1          1 2009-07-07   \n",
                            "4                    Headphones                   1          1 2009-07-07   \n",
                            "\n",
                            "  UpdateDate  \n",
                            "0 2009-07-07  \n",
                            "1 2009-07-07  \n",
                            "2 2009-07-07  \n",
                            "3 2009-07-07  \n",
                            "4 2009-07-07  "
                        ],
                        "text/html": [
                            "<div>\n",
                            "<style scoped>\n",
                            "    .dataframe tbody tr th:only-of-type {\n",
                            "        vertical-align: middle;\n",
                            "    }\n",
                            "\n",
                            "    .dataframe tbody tr th {\n",
                            "        vertical-align: top;\n",
                            "    }\n",
                            "\n",
                            "    .dataframe thead th {\n",
                            "        text-align: right;\n",
                            "    }\n",
                            "</style>\n",
                            "<table border=\"1\" class=\"dataframe\">\n",
                            "  <thead>\n",
                            "    <tr style=\"text-align: right;\">\n",
                            "      <th></th>\n",
                            "      <th>ProductSubcategoryKey</th>\n",
                            "      <th>ProductSubcategoryLabel</th>\n",
                            "      <th>ProductSubcategoryName</th>\n",
                            "      <th>ProductSubcategoryDescription</th>\n",
                            "      <th>ProductCategoryKey</th>\n",
                            "      <th>ETLLoadID</th>\n",
                            "      <th>LoadDate</th>\n",
                            "      <th>UpdateDate</th>\n",
                            "    </tr>\n",
                            "  </thead>\n",
                            "  <tbody>\n",
                            "    <tr>\n",
                            "      <th>0</th>\n",
                            "      <td>1</td>\n",
                            "      <td>0101</td>\n",
                            "      <td>MP4&amp;MP3</td>\n",
                            "      <td>MP4&amp;MP3</td>\n",
                            "      <td>1</td>\n",
                            "      <td>1</td>\n",
                            "      <td>2009-07-07</td>\n",
                            "      <td>2009-07-07</td>\n",
                            "    </tr>\n",
                            "    <tr>\n",
                            "      <th>1</th>\n",
                            "      <td>2</td>\n",
                            "      <td>0102</td>\n",
                            "      <td>Recorder</td>\n",
                            "      <td>Recorder</td>\n",
                            "      <td>1</td>\n",
                            "      <td>1</td>\n",
                            "      <td>2009-07-07</td>\n",
                            "      <td>2009-07-07</td>\n",
                            "    </tr>\n",
                            "    <tr>\n",
                            "      <th>2</th>\n",
                            "      <td>3</td>\n",
                            "      <td>0103</td>\n",
                            "      <td>Radio</td>\n",
                            "      <td>Radio</td>\n",
                            "      <td>1</td>\n",
                            "      <td>1</td>\n",
                            "      <td>2009-07-07</td>\n",
                            "      <td>2009-07-07</td>\n",
                            "    </tr>\n",
                            "    <tr>\n",
                            "      <th>3</th>\n",
                            "      <td>4</td>\n",
                            "      <td>0104</td>\n",
                            "      <td>Recording Pen</td>\n",
                            "      <td>Recording Pen</td>\n",
                            "      <td>1</td>\n",
                            "      <td>1</td>\n",
                            "      <td>2009-07-07</td>\n",
                            "      <td>2009-07-07</td>\n",
                            "    </tr>\n",
                            "    <tr>\n",
                            "      <th>4</th>\n",
                            "      <td>5</td>\n",
                            "      <td>0105</td>\n",
                            "      <td>Headphones</td>\n",
                            "      <td>Headphones</td>\n",
                            "      <td>1</td>\n",
                            "      <td>1</td>\n",
                            "      <td>2009-07-07</td>\n",
                            "      <td>2009-07-07</td>\n",
                            "    </tr>\n",
                            "  </tbody>\n",
                            "</table>\n",
                            "</div>"
                        ]
                    },
                    "metadata": {},
                    "execution_count": 9
                }
            ],
            "metadata": {}
        },
        {
            "cell_type": "code",
            "execution_count": 10,
            "source": [
                "prodSubCat.info()"
            ],
            "outputs": [
                {
                    "output_type": "stream",
                    "name": "stdout",
                    "text": [
                        "<class 'pandas.core.frame.DataFrame'>\n",
                        "RangeIndex: 44 entries, 0 to 43\n",
                        "Data columns (total 8 columns):\n",
                        " #   Column                         Non-Null Count  Dtype         \n",
                        "---  ------                         --------------  -----         \n",
                        " 0   ProductSubcategoryKey          44 non-null     int64         \n",
                        " 1   ProductSubcategoryLabel        44 non-null     object        \n",
                        " 2   ProductSubcategoryName         44 non-null     object        \n",
                        " 3   ProductSubcategoryDescription  44 non-null     object        \n",
                        " 4   ProductCategoryKey             44 non-null     int64         \n",
                        " 5   ETLLoadID                      44 non-null     int64         \n",
                        " 6   LoadDate                       44 non-null     datetime64[ns]\n",
                        " 7   UpdateDate                     44 non-null     datetime64[ns]\n",
                        "dtypes: datetime64[ns](2), int64(3), object(3)\n",
                        "memory usage: 2.9+ KB\n"
                    ]
                }
            ],
            "metadata": {}
        },
        {
            "cell_type": "markdown",
            "source": [
                "PRODUCT CATEGORY"
            ],
            "metadata": {}
        },
        {
            "cell_type": "code",
            "execution_count": 11,
            "source": [
                "prodCat.head()"
            ],
            "outputs": [
                {
                    "output_type": "execute_result",
                    "data": {
                        "text/plain": [
                            "   ProductCategoryKey ProductCategoryLabel      ProductCategoryName  \\\n",
                            "0                   1                   01                    Audio   \n",
                            "1                   2                   02             TV and Video   \n",
                            "2                   3                   03                Computers   \n",
                            "3                   4                   04  Cameras and camcorders    \n",
                            "4                   5                   05              Cell phones   \n",
                            "\n",
                            "  ProductCategoryDescription  ETLLoadID   LoadDate UpdateDate  \n",
                            "0                      Audio          1 2009-07-07 2009-07-07  \n",
                            "1               TV and Video          1 2009-07-07 2009-07-07  \n",
                            "2                  Computers          1 2009-07-07 2009-07-07  \n",
                            "3    Cameras and camcorders           1 2009-07-07 2009-07-07  \n",
                            "4                Cell phones          1 2009-07-07 2009-07-07  "
                        ],
                        "text/html": [
                            "<div>\n",
                            "<style scoped>\n",
                            "    .dataframe tbody tr th:only-of-type {\n",
                            "        vertical-align: middle;\n",
                            "    }\n",
                            "\n",
                            "    .dataframe tbody tr th {\n",
                            "        vertical-align: top;\n",
                            "    }\n",
                            "\n",
                            "    .dataframe thead th {\n",
                            "        text-align: right;\n",
                            "    }\n",
                            "</style>\n",
                            "<table border=\"1\" class=\"dataframe\">\n",
                            "  <thead>\n",
                            "    <tr style=\"text-align: right;\">\n",
                            "      <th></th>\n",
                            "      <th>ProductCategoryKey</th>\n",
                            "      <th>ProductCategoryLabel</th>\n",
                            "      <th>ProductCategoryName</th>\n",
                            "      <th>ProductCategoryDescription</th>\n",
                            "      <th>ETLLoadID</th>\n",
                            "      <th>LoadDate</th>\n",
                            "      <th>UpdateDate</th>\n",
                            "    </tr>\n",
                            "  </thead>\n",
                            "  <tbody>\n",
                            "    <tr>\n",
                            "      <th>0</th>\n",
                            "      <td>1</td>\n",
                            "      <td>01</td>\n",
                            "      <td>Audio</td>\n",
                            "      <td>Audio</td>\n",
                            "      <td>1</td>\n",
                            "      <td>2009-07-07</td>\n",
                            "      <td>2009-07-07</td>\n",
                            "    </tr>\n",
                            "    <tr>\n",
                            "      <th>1</th>\n",
                            "      <td>2</td>\n",
                            "      <td>02</td>\n",
                            "      <td>TV and Video</td>\n",
                            "      <td>TV and Video</td>\n",
                            "      <td>1</td>\n",
                            "      <td>2009-07-07</td>\n",
                            "      <td>2009-07-07</td>\n",
                            "    </tr>\n",
                            "    <tr>\n",
                            "      <th>2</th>\n",
                            "      <td>3</td>\n",
                            "      <td>03</td>\n",
                            "      <td>Computers</td>\n",
                            "      <td>Computers</td>\n",
                            "      <td>1</td>\n",
                            "      <td>2009-07-07</td>\n",
                            "      <td>2009-07-07</td>\n",
                            "    </tr>\n",
                            "    <tr>\n",
                            "      <th>3</th>\n",
                            "      <td>4</td>\n",
                            "      <td>04</td>\n",
                            "      <td>Cameras and camcorders</td>\n",
                            "      <td>Cameras and camcorders</td>\n",
                            "      <td>1</td>\n",
                            "      <td>2009-07-07</td>\n",
                            "      <td>2009-07-07</td>\n",
                            "    </tr>\n",
                            "    <tr>\n",
                            "      <th>4</th>\n",
                            "      <td>5</td>\n",
                            "      <td>05</td>\n",
                            "      <td>Cell phones</td>\n",
                            "      <td>Cell phones</td>\n",
                            "      <td>1</td>\n",
                            "      <td>2009-07-07</td>\n",
                            "      <td>2009-07-07</td>\n",
                            "    </tr>\n",
                            "  </tbody>\n",
                            "</table>\n",
                            "</div>"
                        ]
                    },
                    "metadata": {},
                    "execution_count": 11
                }
            ],
            "metadata": {}
        },
        {
            "cell_type": "code",
            "execution_count": 12,
            "source": [
                "prodCat.info()"
            ],
            "outputs": [
                {
                    "output_type": "stream",
                    "name": "stdout",
                    "text": [
                        "<class 'pandas.core.frame.DataFrame'>\n",
                        "RangeIndex: 8 entries, 0 to 7\n",
                        "Data columns (total 7 columns):\n",
                        " #   Column                      Non-Null Count  Dtype         \n",
                        "---  ------                      --------------  -----         \n",
                        " 0   ProductCategoryKey          8 non-null      int64         \n",
                        " 1   ProductCategoryLabel        8 non-null      object        \n",
                        " 2   ProductCategoryName         8 non-null      object        \n",
                        " 3   ProductCategoryDescription  8 non-null      object        \n",
                        " 4   ETLLoadID                   8 non-null      int64         \n",
                        " 5   LoadDate                    8 non-null      datetime64[ns]\n",
                        " 6   UpdateDate                  8 non-null      datetime64[ns]\n",
                        "dtypes: datetime64[ns](2), int64(2), object(3)\n",
                        "memory usage: 576.0+ bytes\n"
                    ]
                }
            ],
            "metadata": {}
        },
        {
            "cell_type": "markdown",
            "source": [
                "SALES"
            ],
            "metadata": {}
        },
        {
            "cell_type": "code",
            "execution_count": 13,
            "source": [
                "sales.head()"
            ],
            "outputs": [
                {
                    "output_type": "execute_result",
                    "data": {
                        "text/plain": [
                            "   SalesKey    DateKey  channelKey  StoreKey  ProductKey  PromotionKey  \\\n",
                            "0         1 2007-01-02           1       209         956            10   \n",
                            "1         2 2007-02-12           4       308         766             2   \n",
                            "2         3 2008-01-24           1       156        1175            11   \n",
                            "3         4 2008-01-13           2       306        1429            10   \n",
                            "4         5 2008-01-22           2       306        1133            10   \n",
                            "\n",
                            "   CurrencyKey  UnitCost  UnitPrice  SalesQuantity  ReturnQuantity  \\\n",
                            "0            1     91.05      198.0              8               0   \n",
                            "1            1     10.15       19.9              4               0   \n",
                            "2            1    209.03      410.0              9               0   \n",
                            "3            1    132.90      289.0              8               0   \n",
                            "4            1    144.52      436.2             24               0   \n",
                            "\n",
                            "   ReturnAmount  DiscountQuantity  DiscountAmount  TotalCost  SalesAmount  \\\n",
                            "0           0.0                 1          39.600     728.40     1544.400   \n",
                            "1           0.0                 1           0.995      40.60       78.605   \n",
                            "2           0.0                 3          61.500    1881.27     3628.500   \n",
                            "3           0.0                 1          57.800    1063.20     2254.200   \n",
                            "4           0.0                 3         261.720    3468.48    10207.080   \n",
                            "\n",
                            "   ETLLoadID   LoadDate UpdateDate  \n",
                            "0          1 2010-01-01 2010-01-01  \n",
                            "1          1 2010-01-01 2010-01-01  \n",
                            "2          1 2010-01-01 2010-01-01  \n",
                            "3          1 2010-01-01 2010-01-01  \n",
                            "4          1 2010-01-01 2010-01-01  "
                        ],
                        "text/html": [
                            "<div>\n",
                            "<style scoped>\n",
                            "    .dataframe tbody tr th:only-of-type {\n",
                            "        vertical-align: middle;\n",
                            "    }\n",
                            "\n",
                            "    .dataframe tbody tr th {\n",
                            "        vertical-align: top;\n",
                            "    }\n",
                            "\n",
                            "    .dataframe thead th {\n",
                            "        text-align: right;\n",
                            "    }\n",
                            "</style>\n",
                            "<table border=\"1\" class=\"dataframe\">\n",
                            "  <thead>\n",
                            "    <tr style=\"text-align: right;\">\n",
                            "      <th></th>\n",
                            "      <th>SalesKey</th>\n",
                            "      <th>DateKey</th>\n",
                            "      <th>channelKey</th>\n",
                            "      <th>StoreKey</th>\n",
                            "      <th>ProductKey</th>\n",
                            "      <th>PromotionKey</th>\n",
                            "      <th>CurrencyKey</th>\n",
                            "      <th>UnitCost</th>\n",
                            "      <th>UnitPrice</th>\n",
                            "      <th>SalesQuantity</th>\n",
                            "      <th>ReturnQuantity</th>\n",
                            "      <th>ReturnAmount</th>\n",
                            "      <th>DiscountQuantity</th>\n",
                            "      <th>DiscountAmount</th>\n",
                            "      <th>TotalCost</th>\n",
                            "      <th>SalesAmount</th>\n",
                            "      <th>ETLLoadID</th>\n",
                            "      <th>LoadDate</th>\n",
                            "      <th>UpdateDate</th>\n",
                            "    </tr>\n",
                            "  </thead>\n",
                            "  <tbody>\n",
                            "    <tr>\n",
                            "      <th>0</th>\n",
                            "      <td>1</td>\n",
                            "      <td>2007-01-02</td>\n",
                            "      <td>1</td>\n",
                            "      <td>209</td>\n",
                            "      <td>956</td>\n",
                            "      <td>10</td>\n",
                            "      <td>1</td>\n",
                            "      <td>91.05</td>\n",
                            "      <td>198.0</td>\n",
                            "      <td>8</td>\n",
                            "      <td>0</td>\n",
                            "      <td>0.0</td>\n",
                            "      <td>1</td>\n",
                            "      <td>39.600</td>\n",
                            "      <td>728.40</td>\n",
                            "      <td>1544.400</td>\n",
                            "      <td>1</td>\n",
                            "      <td>2010-01-01</td>\n",
                            "      <td>2010-01-01</td>\n",
                            "    </tr>\n",
                            "    <tr>\n",
                            "      <th>1</th>\n",
                            "      <td>2</td>\n",
                            "      <td>2007-02-12</td>\n",
                            "      <td>4</td>\n",
                            "      <td>308</td>\n",
                            "      <td>766</td>\n",
                            "      <td>2</td>\n",
                            "      <td>1</td>\n",
                            "      <td>10.15</td>\n",
                            "      <td>19.9</td>\n",
                            "      <td>4</td>\n",
                            "      <td>0</td>\n",
                            "      <td>0.0</td>\n",
                            "      <td>1</td>\n",
                            "      <td>0.995</td>\n",
                            "      <td>40.60</td>\n",
                            "      <td>78.605</td>\n",
                            "      <td>1</td>\n",
                            "      <td>2010-01-01</td>\n",
                            "      <td>2010-01-01</td>\n",
                            "    </tr>\n",
                            "    <tr>\n",
                            "      <th>2</th>\n",
                            "      <td>3</td>\n",
                            "      <td>2008-01-24</td>\n",
                            "      <td>1</td>\n",
                            "      <td>156</td>\n",
                            "      <td>1175</td>\n",
                            "      <td>11</td>\n",
                            "      <td>1</td>\n",
                            "      <td>209.03</td>\n",
                            "      <td>410.0</td>\n",
                            "      <td>9</td>\n",
                            "      <td>0</td>\n",
                            "      <td>0.0</td>\n",
                            "      <td>3</td>\n",
                            "      <td>61.500</td>\n",
                            "      <td>1881.27</td>\n",
                            "      <td>3628.500</td>\n",
                            "      <td>1</td>\n",
                            "      <td>2010-01-01</td>\n",
                            "      <td>2010-01-01</td>\n",
                            "    </tr>\n",
                            "    <tr>\n",
                            "      <th>3</th>\n",
                            "      <td>4</td>\n",
                            "      <td>2008-01-13</td>\n",
                            "      <td>2</td>\n",
                            "      <td>306</td>\n",
                            "      <td>1429</td>\n",
                            "      <td>10</td>\n",
                            "      <td>1</td>\n",
                            "      <td>132.90</td>\n",
                            "      <td>289.0</td>\n",
                            "      <td>8</td>\n",
                            "      <td>0</td>\n",
                            "      <td>0.0</td>\n",
                            "      <td>1</td>\n",
                            "      <td>57.800</td>\n",
                            "      <td>1063.20</td>\n",
                            "      <td>2254.200</td>\n",
                            "      <td>1</td>\n",
                            "      <td>2010-01-01</td>\n",
                            "      <td>2010-01-01</td>\n",
                            "    </tr>\n",
                            "    <tr>\n",
                            "      <th>4</th>\n",
                            "      <td>5</td>\n",
                            "      <td>2008-01-22</td>\n",
                            "      <td>2</td>\n",
                            "      <td>306</td>\n",
                            "      <td>1133</td>\n",
                            "      <td>10</td>\n",
                            "      <td>1</td>\n",
                            "      <td>144.52</td>\n",
                            "      <td>436.2</td>\n",
                            "      <td>24</td>\n",
                            "      <td>0</td>\n",
                            "      <td>0.0</td>\n",
                            "      <td>3</td>\n",
                            "      <td>261.720</td>\n",
                            "      <td>3468.48</td>\n",
                            "      <td>10207.080</td>\n",
                            "      <td>1</td>\n",
                            "      <td>2010-01-01</td>\n",
                            "      <td>2010-01-01</td>\n",
                            "    </tr>\n",
                            "  </tbody>\n",
                            "</table>\n",
                            "</div>"
                        ]
                    },
                    "metadata": {},
                    "execution_count": 13
                }
            ],
            "metadata": {}
        },
        {
            "cell_type": "code",
            "execution_count": 14,
            "source": [
                "sales.info()"
            ],
            "outputs": [
                {
                    "output_type": "stream",
                    "name": "stdout",
                    "text": [
                        "<class 'pandas.core.frame.DataFrame'>\n",
                        "RangeIndex: 3406089 entries, 0 to 3406088\n",
                        "Data columns (total 19 columns):\n",
                        " #   Column            Dtype         \n",
                        "---  ------            -----         \n",
                        " 0   SalesKey          int64         \n",
                        " 1   DateKey           datetime64[ns]\n",
                        " 2   channelKey        int64         \n",
                        " 3   StoreKey          int64         \n",
                        " 4   ProductKey        int64         \n",
                        " 5   PromotionKey      int64         \n",
                        " 6   CurrencyKey       int64         \n",
                        " 7   UnitCost          float64       \n",
                        " 8   UnitPrice         float64       \n",
                        " 9   SalesQuantity     int64         \n",
                        " 10  ReturnQuantity    int64         \n",
                        " 11  ReturnAmount      float64       \n",
                        " 12  DiscountQuantity  int64         \n",
                        " 13  DiscountAmount    float64       \n",
                        " 14  TotalCost         float64       \n",
                        " 15  SalesAmount       float64       \n",
                        " 16  ETLLoadID         int64         \n",
                        " 17  LoadDate          datetime64[ns]\n",
                        " 18  UpdateDate        datetime64[ns]\n",
                        "dtypes: datetime64[ns](3), float64(6), int64(10)\n",
                        "memory usage: 493.7 MB\n"
                    ]
                }
            ],
            "metadata": {}
        },
        {
            "cell_type": "code",
            "execution_count": 15,
            "source": [
                "msno.matrix(sales)"
            ],
            "outputs": [
                {
                    "output_type": "execute_result",
                    "data": {
                        "text/plain": [
                            "<AxesSubplot:>"
                        ]
                    },
                    "metadata": {},
                    "execution_count": 15
                },
                {
                    "output_type": "display_data",
                    "data": {
                        "text/plain": [
                            "<Figure size 1800x720 with 2 Axes>"
                        ],
                        "image/png": "[encoded data removed]"
                    },
                    "metadata": {
                        "needs_background": "light"
                    }
                }
            ],
            "metadata": {}
        },
        {
            "cell_type": "code",
            "execution_count": 16,
            "source": [
                "sales.isna().sum()"
            ],
            "outputs": [
                {
                    "output_type": "execute_result",
                    "data": {
                        "text/plain": [
                            "SalesKey            0\n",
                            "DateKey             0\n",
                            "channelKey          0\n",
                            "StoreKey            0\n",
                            "ProductKey          0\n",
                            "PromotionKey        0\n",
                            "CurrencyKey         0\n",
                            "UnitCost            0\n",
                            "UnitPrice           0\n",
                            "SalesQuantity       0\n",
                            "ReturnQuantity      0\n",
                            "ReturnAmount        0\n",
                            "DiscountQuantity    0\n",
                            "DiscountAmount      0\n",
                            "TotalCost           0\n",
                            "SalesAmount         0\n",
                            "ETLLoadID           0\n",
                            "LoadDate            0\n",
                            "UpdateDate          0\n",
                            "dtype: int64"
                        ]
                    },
                    "metadata": {},
                    "execution_count": 16
                }
            ],
            "metadata": {}
        },
        {
            "cell_type": "markdown",
            "source": [
                "Actions for data wrangling:\r\n",
                "* Drop unnecesary columns\r\n",
                "* Drop columns with too many missing values\r\n",
                "* Define appropriate datatypes\r\n",
                "* Try to impute values to the columns with some missing values\r\n",
                "* For categorical values, check for typos\r\n",
                "* For numerical values, check for strange number (ex.: outliers)\r\n",
                "* Join subcategories and categories into product"
            ],
            "metadata": {}
        },
        {
            "cell_type": "markdown",
            "source": [
                "## DATA WRANGLING"
            ],
            "metadata": {}
        },
        {
            "cell_type": "markdown",
            "source": [
                "### 1. PRODUCTS"
            ],
            "metadata": {}
        },
        {
            "cell_type": "markdown",
            "source": [
                "**DROP UNHELPFUL COLUMNS AND ROWS**"
            ],
            "metadata": {}
        },
        {
            "cell_type": "code",
            "execution_count": 17,
            "source": [
                "products.head()"
            ],
            "outputs": [
                {
                    "output_type": "execute_result",
                    "data": {
                        "text/plain": [
                            "   ProductKey ProductLabel                          ProductName  \\\n",
                            "0           1      0101001  Contoso 512MB MP3 Player E51 Silver   \n",
                            "1           2      0101002    Contoso 512MB MP3 Player E51 Blue   \n",
                            "2           3      0101003     Contoso 1G MP3 Player E100 White   \n",
                            "3           4      0101004    Contoso 2G MP3 Player E200 Silver   \n",
                            "4           5      0101005       Contoso 2G MP3 Player E200 Red   \n",
                            "\n",
                            "                                  ProductDescription  ProductSubcategoryKey  \\\n",
                            "0                 512MB USB driver plays MP3 and WMA                      1   \n",
                            "1                 512MB USB driver plays MP3 and WMA                      1   \n",
                            "2  1GB flash memory and USB driver plays MP3 and WMA                      1   \n",
                            "3   2GB flash memory, LCD display, plays MP3 and WMA                      1   \n",
                            "4   2GB flash memory, LCD display, plays MP3 and WMA                      1   \n",
                            "\n",
                            "   Manufacturer BrandName ClassID ClassName StyleID  ... UnitCost UnitPrice  \\\n",
                            "0  Contoso, Ltd   Contoso       1   Economy       1  ...     6.62     12.99   \n",
                            "1  Contoso, Ltd   Contoso       1   Economy       5  ...     6.62     12.99   \n",
                            "2  Contoso, Ltd   Contoso       1   Economy       1  ...     7.40     14.52   \n",
                            "3  Contoso, Ltd   Contoso       1   Economy       1  ...    11.00     21.57   \n",
                            "4  Contoso, Ltd   Contoso       1   Economy       1  ...    11.00     21.57   \n",
                            "\n",
                            "  AvailableForSaleDate StopSaleDate Status ImageURL  ProductURL ETLLoadID  \\\n",
                            "0           2005-05-03         None     On     None        None         1   \n",
                            "1           2005-05-03         None     On     None        None         1   \n",
                            "2           2006-05-13         None     On     None        None         1   \n",
                            "3           2006-12-16         None     On     None        None         1   \n",
                            "4           2006-12-17         None     On     None        None         1   \n",
                            "\n",
                            "             LoadDate          UpdateDate  \n",
                            "0 2008-05-25 08:01:12 2008-05-25 08:01:12  \n",
                            "1 2008-05-26 08:01:12 2008-05-26 08:01:12  \n",
                            "2 2008-05-27 08:01:12 2008-05-27 08:01:12  \n",
                            "3 2008-05-28 08:01:12 2008-05-28 08:01:12  \n",
                            "4 2008-05-29 08:01:12 2008-05-29 08:01:12  \n",
                            "\n",
                            "[5 rows x 32 columns]"
                        ],
                        "text/html": [
                            "<div>\n",
                            "<style scoped>\n",
                            "    .dataframe tbody tr th:only-of-type {\n",
                            "        vertical-align: middle;\n",
                            "    }\n",
                            "\n",
                            "    .dataframe tbody tr th {\n",
                            "        vertical-align: top;\n",
                            "    }\n",
                            "\n",
                            "    .dataframe thead th {\n",
                            "        text-align: right;\n",
                            "    }\n",
                            "</style>\n",
                            "<table border=\"1\" class=\"dataframe\">\n",
                            "  <thead>\n",
                            "    <tr style=\"text-align: right;\">\n",
                            "      <th></th>\n",
                            "      <th>ProductKey</th>\n",
                            "      <th>ProductLabel</th>\n",
                            "      <th>ProductName</th>\n",
                            "      <th>ProductDescription</th>\n",
                            "      <th>ProductSubcategoryKey</th>\n",
                            "      <th>Manufacturer</th>\n",
                            "      <th>BrandName</th>\n",
                            "      <th>ClassID</th>\n",
                            "      <th>ClassName</th>\n",
                            "      <th>StyleID</th>\n",
                            "      <th>...</th>\n",
                            "      <th>UnitCost</th>\n",
                            "      <th>UnitPrice</th>\n",
                            "      <th>AvailableForSaleDate</th>\n",
                            "      <th>StopSaleDate</th>\n",
                            "      <th>Status</th>\n",
                            "      <th>ImageURL</th>\n",
                            "      <th>ProductURL</th>\n",
                            "      <th>ETLLoadID</th>\n",
                            "      <th>LoadDate</th>\n",
                            "      <th>UpdateDate</th>\n",
                            "    </tr>\n",
                            "  </thead>\n",
                            "  <tbody>\n",
                            "    <tr>\n",
                            "      <th>0</th>\n",
                            "      <td>1</td>\n",
                            "      <td>0101001</td>\n",
                            "      <td>Contoso 512MB MP3 Player E51 Silver</td>\n",
                            "      <td>512MB USB driver plays MP3 and WMA</td>\n",
                            "      <td>1</td>\n",
                            "      <td>Contoso, Ltd</td>\n",
                            "      <td>Contoso</td>\n",
                            "      <td>1</td>\n",
                            "      <td>Economy</td>\n",
                            "      <td>1</td>\n",
                            "      <td>...</td>\n",
                            "      <td>6.62</td>\n",
                            "      <td>12.99</td>\n",
                            "      <td>2005-05-03</td>\n",
                            "      <td>None</td>\n",
                            "      <td>On</td>\n",
                            "      <td>None</td>\n",
                            "      <td>None</td>\n",
                            "      <td>1</td>\n",
                            "      <td>2008-05-25 08:01:12</td>\n",
                            "      <td>2008-05-25 08:01:12</td>\n",
                            "    </tr>\n",
                            "    <tr>\n",
                            "      <th>1</th>\n",
                            "      <td>2</td>\n",
                            "      <td>0101002</td>\n",
                            "      <td>Contoso 512MB MP3 Player E51 Blue</td>\n",
                            "      <td>512MB USB driver plays MP3 and WMA</td>\n",
                            "      <td>1</td>\n",
                            "      <td>Contoso, Ltd</td>\n",
                            "      <td>Contoso</td>\n",
                            "      <td>1</td>\n",
                            "      <td>Economy</td>\n",
                            "      <td>5</td>\n",
                            "      <td>...</td>\n",
                            "      <td>6.62</td>\n",
                            "      <td>12.99</td>\n",
                            "      <td>2005-05-03</td>\n",
                            "      <td>None</td>\n",
                            "      <td>On</td>\n",
                            "      <td>None</td>\n",
                            "      <td>None</td>\n",
                            "      <td>1</td>\n",
                            "      <td>2008-05-26 08:01:12</td>\n",
                            "      <td>2008-05-26 08:01:12</td>\n",
                            "    </tr>\n",
                            "    <tr>\n",
                            "      <th>2</th>\n",
                            "      <td>3</td>\n",
                            "      <td>0101003</td>\n",
                            "      <td>Contoso 1G MP3 Player E100 White</td>\n",
                            "      <td>1GB flash memory and USB driver plays MP3 and WMA</td>\n",
                            "      <td>1</td>\n",
                            "      <td>Contoso, Ltd</td>\n",
                            "      <td>Contoso</td>\n",
                            "      <td>1</td>\n",
                            "      <td>Economy</td>\n",
                            "      <td>1</td>\n",
                            "      <td>...</td>\n",
                            "      <td>7.40</td>\n",
                            "      <td>14.52</td>\n",
                            "      <td>2006-05-13</td>\n",
                            "      <td>None</td>\n",
                            "      <td>On</td>\n",
                            "      <td>None</td>\n",
                            "      <td>None</td>\n",
                            "      <td>1</td>\n",
                            "      <td>2008-05-27 08:01:12</td>\n",
                            "      <td>2008-05-27 08:01:12</td>\n",
                            "    </tr>\n",
                            "    <tr>\n",
                            "      <th>3</th>\n",
                            "      <td>4</td>\n",
                            "      <td>0101004</td>\n",
                            "      <td>Contoso 2G MP3 Player E200 Silver</td>\n",
                            "      <td>2GB flash memory, LCD display, plays MP3 and WMA</td>\n",
                            "      <td>1</td>\n",
                            "      <td>Contoso, Ltd</td>\n",
                            "      <td>Contoso</td>\n",
                            "      <td>1</td>\n",
                            "      <td>Economy</td>\n",
                            "      <td>1</td>\n",
                            "      <td>...</td>\n",
                            "      <td>11.00</td>\n",
                            "      <td>21.57</td>\n",
                            "      <td>2006-12-16</td>\n",
                            "      <td>None</td>\n",
                            "      <td>On</td>\n",
                            "      <td>None</td>\n",
                            "      <td>None</td>\n",
                            "      <td>1</td>\n",
                            "      <td>2008-05-28 08:01:12</td>\n",
                            "      <td>2008-05-28 08:01:12</td>\n",
                            "    </tr>\n",
                            "    <tr>\n",
                            "      <th>4</th>\n",
                            "      <td>5</td>\n",
                            "      <td>0101005</td>\n",
                            "      <td>Contoso 2G MP3 Player E200 Red</td>\n",
                            "      <td>2GB flash memory, LCD display, plays MP3 and WMA</td>\n",
                            "      <td>1</td>\n",
                            "      <td>Contoso, Ltd</td>\n",
                            "      <td>Contoso</td>\n",
                            "      <td>1</td>\n",
                            "      <td>Economy</td>\n",
                            "      <td>1</td>\n",
                            "      <td>...</td>\n",
                            "      <td>11.00</td>\n",
                            "      <td>21.57</td>\n",
                            "      <td>2006-12-17</td>\n",
                            "      <td>None</td>\n",
                            "      <td>On</td>\n",
                            "      <td>None</td>\n",
                            "      <td>None</td>\n",
                            "      <td>1</td>\n",
                            "      <td>2008-05-29 08:01:12</td>\n",
                            "      <td>2008-05-29 08:01:12</td>\n",
                            "    </tr>\n",
                            "  </tbody>\n",
                            "</table>\n",
                            "<p>5 rows × 32 columns</p>\n",
                            "</div>"
                        ]
                    },
                    "metadata": {},
                    "execution_count": 17
                }
            ],
            "metadata": {}
        },
        {
            "cell_type": "code",
            "execution_count": 18,
            "source": [
                "products.info()"
            ],
            "outputs": [
                {
                    "output_type": "stream",
                    "name": "stdout",
                    "text": [
                        "<class 'pandas.core.frame.DataFrame'>\n",
                        "RangeIndex: 2517 entries, 0 to 2516\n",
                        "Data columns (total 32 columns):\n",
                        " #   Column                 Non-Null Count  Dtype         \n",
                        "---  ------                 --------------  -----         \n",
                        " 0   ProductKey             2517 non-null   int64         \n",
                        " 1   ProductLabel           2517 non-null   object        \n",
                        " 2   ProductName            2517 non-null   object        \n",
                        " 3   ProductDescription     2516 non-null   object        \n",
                        " 4   ProductSubcategoryKey  2517 non-null   int64         \n",
                        " 5   Manufacturer           2517 non-null   object        \n",
                        " 6   BrandName              2517 non-null   object        \n",
                        " 7   ClassID                2517 non-null   object        \n",
                        " 8   ClassName              2517 non-null   object        \n",
                        " 9   StyleID                2487 non-null   object        \n",
                        " 10  StyleName              2517 non-null   object        \n",
                        " 11  ColorID                2517 non-null   object        \n",
                        " 12  ColorName              2517 non-null   object        \n",
                        " 13  Size                   1947 non-null   object        \n",
                        " 14  SizeRange              1502 non-null   object        \n",
                        " 15  SizeUnitMeasureID      1525 non-null   object        \n",
                        " 16  Weight                 2233 non-null   float64       \n",
                        " 17  WeightUnitMeasureID    2415 non-null   object        \n",
                        " 18  UnitOfMeasureID        2517 non-null   object        \n",
                        " 19  UnitOfMeasureName      2517 non-null   object        \n",
                        " 20  StockTypeID            2517 non-null   object        \n",
                        " 21  StockTypeName          2517 non-null   object        \n",
                        " 22  UnitCost               2517 non-null   float64       \n",
                        " 23  UnitPrice              2517 non-null   float64       \n",
                        " 24  AvailableForSaleDate   2516 non-null   datetime64[ns]\n",
                        " 25  StopSaleDate           0 non-null      object        \n",
                        " 26  Status                 2222 non-null   object        \n",
                        " 27  ImageURL               0 non-null      object        \n",
                        " 28  ProductURL             0 non-null      object        \n",
                        " 29  ETLLoadID              2517 non-null   int64         \n",
                        " 30  LoadDate               2517 non-null   datetime64[ns]\n",
                        " 31  UpdateDate             2517 non-null   datetime64[ns]\n",
                        "dtypes: datetime64[ns](3), float64(3), int64(3), object(23)\n",
                        "memory usage: 629.4+ KB\n"
                    ]
                }
            ],
            "metadata": {}
        },
        {
            "cell_type": "code",
            "execution_count": 19,
            "source": [
                "products.drop(['ProductLabel','ClassID','StyleID','ColorID','Size','SizeRange','SizeUnitMeasureID','Weight','WeightUnitMeasureID',\\\r\n",
                "                'UnitOfMeasureID','UnitOfMeasureName','StockTypeID','ImageURL','ProductURL','ETLLoadID','LoadDate','UpdateDate','StopSaleDate',\r\n",
                "                'AvailableForSaleDate','StyleName'],axis=1, inplace=True)"
            ],
            "outputs": [],
            "metadata": {}
        },
        {
            "cell_type": "code",
            "execution_count": 20,
            "source": [
                "products.head()"
            ],
            "outputs": [
                {
                    "output_type": "execute_result",
                    "data": {
                        "text/plain": [
                            "   ProductKey                          ProductName  \\\n",
                            "0           1  Contoso 512MB MP3 Player E51 Silver   \n",
                            "1           2    Contoso 512MB MP3 Player E51 Blue   \n",
                            "2           3     Contoso 1G MP3 Player E100 White   \n",
                            "3           4    Contoso 2G MP3 Player E200 Silver   \n",
                            "4           5       Contoso 2G MP3 Player E200 Red   \n",
                            "\n",
                            "                                  ProductDescription  ProductSubcategoryKey  \\\n",
                            "0                 512MB USB driver plays MP3 and WMA                      1   \n",
                            "1                 512MB USB driver plays MP3 and WMA                      1   \n",
                            "2  1GB flash memory and USB driver plays MP3 and WMA                      1   \n",
                            "3   2GB flash memory, LCD display, plays MP3 and WMA                      1   \n",
                            "4   2GB flash memory, LCD display, plays MP3 and WMA                      1   \n",
                            "\n",
                            "   Manufacturer BrandName ClassName ColorName StockTypeName  UnitCost  \\\n",
                            "0  Contoso, Ltd   Contoso   Economy    Silver          High      6.62   \n",
                            "1  Contoso, Ltd   Contoso   Economy      Blue          High      6.62   \n",
                            "2  Contoso, Ltd   Contoso   Economy     White           Mid      7.40   \n",
                            "3  Contoso, Ltd   Contoso   Economy    Silver           Mid     11.00   \n",
                            "4  Contoso, Ltd   Contoso   Economy       Red           Mid     11.00   \n",
                            "\n",
                            "   UnitPrice Status  \n",
                            "0      12.99     On  \n",
                            "1      12.99     On  \n",
                            "2      14.52     On  \n",
                            "3      21.57     On  \n",
                            "4      21.57     On  "
                        ],
                        "text/html": [
                            "<div>\n",
                            "<style scoped>\n",
                            "    .dataframe tbody tr th:only-of-type {\n",
                            "        vertical-align: middle;\n",
                            "    }\n",
                            "\n",
                            "    .dataframe tbody tr th {\n",
                            "        vertical-align: top;\n",
                            "    }\n",
                            "\n",
                            "    .dataframe thead th {\n",
                            "        text-align: right;\n",
                            "    }\n",
                            "</style>\n",
                            "<table border=\"1\" class=\"dataframe\">\n",
                            "  <thead>\n",
                            "    <tr style=\"text-align: right;\">\n",
                            "      <th></th>\n",
                            "      <th>ProductKey</th>\n",
                            "      <th>ProductName</th>\n",
                            "      <th>ProductDescription</th>\n",
                            "      <th>ProductSubcategoryKey</th>\n",
                            "      <th>Manufacturer</th>\n",
                            "      <th>BrandName</th>\n",
                            "      <th>ClassName</th>\n",
                            "      <th>ColorName</th>\n",
                            "      <th>StockTypeName</th>\n",
                            "      <th>UnitCost</th>\n",
                            "      <th>UnitPrice</th>\n",
                            "      <th>Status</th>\n",
                            "    </tr>\n",
                            "  </thead>\n",
                            "  <tbody>\n",
                            "    <tr>\n",
                            "      <th>0</th>\n",
                            "      <td>1</td>\n",
                            "      <td>Contoso 512MB MP3 Player E51 Silver</td>\n",
                            "      <td>512MB USB driver plays MP3 and WMA</td>\n",
                            "      <td>1</td>\n",
                            "      <td>Contoso, Ltd</td>\n",
                            "      <td>Contoso</td>\n",
                            "      <td>Economy</td>\n",
                            "      <td>Silver</td>\n",
                            "      <td>High</td>\n",
                            "      <td>6.62</td>\n",
                            "      <td>12.99</td>\n",
                            "      <td>On</td>\n",
                            "    </tr>\n",
                            "    <tr>\n",
                            "      <th>1</th>\n",
                            "      <td>2</td>\n",
                            "      <td>Contoso 512MB MP3 Player E51 Blue</td>\n",
                            "      <td>512MB USB driver plays MP3 and WMA</td>\n",
                            "      <td>1</td>\n",
                            "      <td>Contoso, Ltd</td>\n",
                            "      <td>Contoso</td>\n",
                            "      <td>Economy</td>\n",
                            "      <td>Blue</td>\n",
                            "      <td>High</td>\n",
                            "      <td>6.62</td>\n",
                            "      <td>12.99</td>\n",
                            "      <td>On</td>\n",
                            "    </tr>\n",
                            "    <tr>\n",
                            "      <th>2</th>\n",
                            "      <td>3</td>\n",
                            "      <td>Contoso 1G MP3 Player E100 White</td>\n",
                            "      <td>1GB flash memory and USB driver plays MP3 and WMA</td>\n",
                            "      <td>1</td>\n",
                            "      <td>Contoso, Ltd</td>\n",
                            "      <td>Contoso</td>\n",
                            "      <td>Economy</td>\n",
                            "      <td>White</td>\n",
                            "      <td>Mid</td>\n",
                            "      <td>7.40</td>\n",
                            "      <td>14.52</td>\n",
                            "      <td>On</td>\n",
                            "    </tr>\n",
                            "    <tr>\n",
                            "      <th>3</th>\n",
                            "      <td>4</td>\n",
                            "      <td>Contoso 2G MP3 Player E200 Silver</td>\n",
                            "      <td>2GB flash memory, LCD display, plays MP3 and WMA</td>\n",
                            "      <td>1</td>\n",
                            "      <td>Contoso, Ltd</td>\n",
                            "      <td>Contoso</td>\n",
                            "      <td>Economy</td>\n",
                            "      <td>Silver</td>\n",
                            "      <td>Mid</td>\n",
                            "      <td>11.00</td>\n",
                            "      <td>21.57</td>\n",
                            "      <td>On</td>\n",
                            "    </tr>\n",
                            "    <tr>\n",
                            "      <th>4</th>\n",
                            "      <td>5</td>\n",
                            "      <td>Contoso 2G MP3 Player E200 Red</td>\n",
                            "      <td>2GB flash memory, LCD display, plays MP3 and WMA</td>\n",
                            "      <td>1</td>\n",
                            "      <td>Contoso, Ltd</td>\n",
                            "      <td>Contoso</td>\n",
                            "      <td>Economy</td>\n",
                            "      <td>Red</td>\n",
                            "      <td>Mid</td>\n",
                            "      <td>11.00</td>\n",
                            "      <td>21.57</td>\n",
                            "      <td>On</td>\n",
                            "    </tr>\n",
                            "  </tbody>\n",
                            "</table>\n",
                            "</div>"
                        ]
                    },
                    "metadata": {},
                    "execution_count": 20
                }
            ],
            "metadata": {}
        },
        {
            "cell_type": "markdown",
            "source": [
                "**HANDLE MISSING VALUES**"
            ],
            "metadata": {}
        },
        {
            "cell_type": "code",
            "execution_count": 21,
            "source": [
                "products.isna().sum()"
            ],
            "outputs": [
                {
                    "output_type": "execute_result",
                    "data": {
                        "text/plain": [
                            "ProductKey                 0\n",
                            "ProductName                0\n",
                            "ProductDescription         1\n",
                            "ProductSubcategoryKey      0\n",
                            "Manufacturer               0\n",
                            "BrandName                  0\n",
                            "ClassName                  0\n",
                            "ColorName                  0\n",
                            "StockTypeName              0\n",
                            "UnitCost                   0\n",
                            "UnitPrice                  0\n",
                            "Status                   295\n",
                            "dtype: int64"
                        ]
                    },
                    "metadata": {},
                    "execution_count": 21
                }
            ],
            "metadata": {}
        },
        {
            "cell_type": "markdown",
            "source": [
                "Product Description: replace NaN with \"No description available\""
            ],
            "metadata": {}
        },
        {
            "cell_type": "code",
            "execution_count": 22,
            "source": [
                "products['ProductDescription'] = products['ProductDescription'].fillna('No description available')"
            ],
            "outputs": [],
            "metadata": {}
        },
        {
            "cell_type": "markdown",
            "source": [
                "Status\r\n",
                "\r\n",
                "Check the values"
            ],
            "metadata": {}
        },
        {
            "cell_type": "code",
            "execution_count": 23,
            "source": [
                "products['Status'].value_counts()"
            ],
            "outputs": [
                {
                    "output_type": "execute_result",
                    "data": {
                        "text/plain": [
                            "On    2222\n",
                            "Name: Status, dtype: int64"
                        ]
                    },
                    "metadata": {},
                    "execution_count": 23
                }
            ],
            "metadata": {}
        },
        {
            "cell_type": "markdown",
            "source": [
                "It's not helpful, we can drop it"
            ],
            "metadata": {}
        },
        {
            "cell_type": "code",
            "execution_count": 24,
            "source": [
                "products.drop('Status', axis=1, inplace=True)"
            ],
            "outputs": [],
            "metadata": {}
        },
        {
            "cell_type": "markdown",
            "source": [
                "**CHECK FOR TYPOS IN CATEGORICAL DATA**"
            ],
            "metadata": {}
        },
        {
            "cell_type": "code",
            "execution_count": 25,
            "source": [
                "print('Manufacturer')\r\n",
                "print(products['Manufacturer'].value_counts().sort_index())\r\n",
                "print(\"\")\r\n",
                "\r\n",
                "print('Brand')\r\n",
                "print(products['BrandName'].value_counts().sort_index())\r\n",
                "print(\"\")\r\n",
                "\r\n",
                "print('Class')\r\n",
                "print(products['ClassName'].value_counts().sort_index())\r\n",
                "print(\"\")\r\n",
                "\r\n",
                "print('Color')\r\n",
                "print(products['ColorName'].value_counts().sort_index())\r\n",
                "print(\"\")\r\n",
                "\r\n",
                "print('Stock Type')\r\n",
                "print(products['StockTypeName'].value_counts().sort_index())\r\n",
                "print(\"\")"
            ],
            "outputs": [
                {
                    "output_type": "stream",
                    "name": "stdout",
                    "text": [
                        "Manufacturer\n",
                        "A. Datum Corporation    132\n",
                        "Adventure Works         192\n",
                        "Contoso, Ltd            710\n",
                        "Fabrikam, Inc.          267\n",
                        "Litware, Inc.           264\n",
                        "Northwind Traders        47\n",
                        "Proseware, Inc.         244\n",
                        "Southridge Video        192\n",
                        "Tailspin Toys           144\n",
                        "The Phone Company       152\n",
                        "Wide World Importers    173\n",
                        "Name: Manufacturer, dtype: int64\n",
                        "\n",
                        "Brand\n",
                        "A. Datum                132\n",
                        "Adventure Works         191\n",
                        "Adventure Works           1\n",
                        "Contoso                 644\n",
                        "Contoso                  66\n",
                        "Fabrikam                195\n",
                        "Fabrikam                 72\n",
                        "Litware                 228\n",
                        "Litware                  36\n",
                        "Northwind Traders        47\n",
                        "Proseware               244\n",
                        "Southridge Video        192\n",
                        "Tailspin Toys           144\n",
                        "The Phone Company       152\n",
                        "Wide World Importers    173\n",
                        "Name: BrandName, dtype: int64\n",
                        "\n",
                        "Class\n",
                        "Deluxe      360\n",
                        "Economy     882\n",
                        "Regular    1275\n",
                        "Name: ClassName, dtype: int64\n",
                        "\n",
                        "Color\n",
                        "Azure           14\n",
                        "Black          602\n",
                        "Blue           197\n",
                        "Brown           77\n",
                        "Gold            50\n",
                        "Green           74\n",
                        "Grey           283\n",
                        "Orange          55\n",
                        "Pink            84\n",
                        "Purple           6\n",
                        "Red             99\n",
                        "Silver         417\n",
                        "Silver Grey     14\n",
                        "Transparent      1\n",
                        "White          505\n",
                        "Yellow          36\n",
                        "blue             3\n",
                        "Name: ColorName, dtype: int64\n",
                        "\n",
                        "Stock Type\n",
                        "High    1375\n",
                        "Low      379\n",
                        "Mid      763\n",
                        "Name: StockTypeName, dtype: int64\n",
                        "\n"
                    ]
                }
            ],
            "metadata": {}
        },
        {
            "cell_type": "markdown",
            "source": [
                "Brand and color columns have duplicated values (Blue/blue, Adventure Works)\r\n",
                "Let's remove leading and trailing spaces, and capitalize the values"
            ],
            "metadata": {}
        },
        {
            "cell_type": "code",
            "execution_count": 26,
            "source": [
                "products['BrandName'] = products['BrandName'].str.strip().str.title()\r\n",
                "products['ColorName'] = products['ColorName'].str.strip().str.title()"
            ],
            "outputs": [],
            "metadata": {}
        },
        {
            "cell_type": "markdown",
            "source": [
                "Verify"
            ],
            "metadata": {}
        },
        {
            "cell_type": "code",
            "execution_count": 27,
            "source": [
                "print('Brand')\r\n",
                "print(products['BrandName'].value_counts().sort_index())\r\n",
                "print(\"\")\r\n",
                "\r\n",
                "print('Color')\r\n",
                "print(products['ColorName'].value_counts().sort_index())\r\n",
                "print(\"\")"
            ],
            "outputs": [
                {
                    "output_type": "stream",
                    "name": "stdout",
                    "text": [
                        "Brand\n",
                        "A. Datum                132\n",
                        "Adventure Works         192\n",
                        "Contoso                 710\n",
                        "Fabrikam                267\n",
                        "Litware                 264\n",
                        "Northwind Traders        47\n",
                        "Proseware               244\n",
                        "Southridge Video        192\n",
                        "Tailspin Toys           144\n",
                        "The Phone Company       152\n",
                        "Wide World Importers    173\n",
                        "Name: BrandName, dtype: int64\n",
                        "\n",
                        "Color\n",
                        "Azure           14\n",
                        "Black          602\n",
                        "Blue           200\n",
                        "Brown           77\n",
                        "Gold            50\n",
                        "Green           74\n",
                        "Grey           283\n",
                        "Orange          55\n",
                        "Pink            84\n",
                        "Purple           6\n",
                        "Red             99\n",
                        "Silver         417\n",
                        "Silver Grey     14\n",
                        "Transparent      1\n",
                        "White          505\n",
                        "Yellow          36\n",
                        "Name: ColorName, dtype: int64\n",
                        "\n"
                    ]
                }
            ],
            "metadata": {}
        },
        {
            "cell_type": "markdown",
            "source": [
                "**DEFINE THE APPROPRIATE DATA TYPES**"
            ],
            "metadata": {}
        },
        {
            "cell_type": "code",
            "execution_count": 28,
            "source": [
                "products.dtypes"
            ],
            "outputs": [
                {
                    "output_type": "execute_result",
                    "data": {
                        "text/plain": [
                            "ProductKey                 int64\n",
                            "ProductName               object\n",
                            "ProductDescription        object\n",
                            "ProductSubcategoryKey      int64\n",
                            "Manufacturer              object\n",
                            "BrandName                 object\n",
                            "ClassName                 object\n",
                            "ColorName                 object\n",
                            "StockTypeName             object\n",
                            "UnitCost                 float64\n",
                            "UnitPrice                float64\n",
                            "dtype: object"
                        ]
                    },
                    "metadata": {},
                    "execution_count": 28
                }
            ],
            "metadata": {}
        },
        {
            "cell_type": "markdown",
            "source": [
                "Convert to categorical:\r\n",
                "* Manufacturer\r\n",
                "* BrandName\r\n",
                "* ClassName\r\n",
                "* ColorName\r\n",
                "* StockTypeName"
            ],
            "metadata": {}
        },
        {
            "cell_type": "code",
            "execution_count": 29,
            "source": [
                "products['Manufacturer'] = products['Manufacturer'].astype('category')\r\n",
                "products['BrandName'] = products['BrandName'].astype('category')\r\n",
                "products['ClassName'] = products['ClassName'].astype('category')\r\n",
                "products['ColorName'] = products['ColorName'].astype('category')\r\n",
                "products['StockTypeName'] = products['StockTypeName'].astype('category')"
            ],
            "outputs": [],
            "metadata": {}
        },
        {
            "cell_type": "code",
            "execution_count": 30,
            "source": [
                "products.dtypes"
            ],
            "outputs": [
                {
                    "output_type": "execute_result",
                    "data": {
                        "text/plain": [
                            "ProductKey                  int64\n",
                            "ProductName                object\n",
                            "ProductDescription         object\n",
                            "ProductSubcategoryKey       int64\n",
                            "Manufacturer             category\n",
                            "BrandName                category\n",
                            "ClassName                category\n",
                            "ColorName                category\n",
                            "StockTypeName            category\n",
                            "UnitCost                  float64\n",
                            "UnitPrice                 float64\n",
                            "dtype: object"
                        ]
                    },
                    "metadata": {},
                    "execution_count": 30
                }
            ],
            "metadata": {}
        },
        {
            "cell_type": "markdown",
            "source": [
                "**CHECK FOR ABNORMAL NUMERICAL VALUES**"
            ],
            "metadata": {}
        },
        {
            "cell_type": "code",
            "execution_count": 31,
            "source": [
                "sns.displot(products['UnitCost'], bins=30)"
            ],
            "outputs": [
                {
                    "output_type": "execute_result",
                    "data": {
                        "text/plain": [
                            "<seaborn.axisgrid.FacetGrid at 0x1b0f02dfc70>"
                        ]
                    },
                    "metadata": {},
                    "execution_count": 31
                },
                {
                    "output_type": "display_data",
                    "data": {
                        "text/plain": [
                            "<Figure size 360x360 with 1 Axes>"
                        ],
                        "image/png": "[encoded data removed]"
                    },
                    "metadata": {
                        "needs_background": "light"
                    }
                }
            ],
            "metadata": {}
        },
        {
            "cell_type": "code",
            "execution_count": 32,
            "source": [
                "sns.displot(products['UnitPrice'], bins=30)"
            ],
            "outputs": [
                {
                    "output_type": "execute_result",
                    "data": {
                        "text/plain": [
                            "<seaborn.axisgrid.FacetGrid at 0x1b01c757d90>"
                        ]
                    },
                    "metadata": {},
                    "execution_count": 32
                },
                {
                    "output_type": "display_data",
                    "data": {
                        "text/plain": [
                            "<Figure size 360x360 with 1 Axes>"
                        ],
                        "image/png": "[encoded data removed]"
                    },
                    "metadata": {
                        "needs_background": "light"
                    }
                }
            ],
            "metadata": {}
        },
        {
            "cell_type": "markdown",
            "source": [
                "### 2. SUBCATEGORIES"
            ],
            "metadata": {}
        },
        {
            "cell_type": "markdown",
            "source": [
                "**DROP UNHELPFUL COLUMNS AND ROWS**"
            ],
            "metadata": {}
        },
        {
            "cell_type": "code",
            "execution_count": 33,
            "source": [
                "prodSubCat.drop(['ProductSubcategoryLabel','ETLLoadID','LoadDate','UpdateDate'], axis=1, inplace=True)"
            ],
            "outputs": [],
            "metadata": {}
        },
        {
            "cell_type": "code",
            "execution_count": 34,
            "source": [
                "prodSubCat.head()"
            ],
            "outputs": [
                {
                    "output_type": "execute_result",
                    "data": {
                        "text/plain": [
                            "   ProductSubcategoryKey ProductSubcategoryName ProductSubcategoryDescription  \\\n",
                            "0                      1                MP4&MP3                       MP4&MP3   \n",
                            "1                      2               Recorder                      Recorder   \n",
                            "2                      3                  Radio                         Radio   \n",
                            "3                      4          Recording Pen                 Recording Pen   \n",
                            "4                      5             Headphones                    Headphones   \n",
                            "\n",
                            "   ProductCategoryKey  \n",
                            "0                   1  \n",
                            "1                   1  \n",
                            "2                   1  \n",
                            "3                   1  \n",
                            "4                   1  "
                        ],
                        "text/html": [
                            "<div>\n",
                            "<style scoped>\n",
                            "    .dataframe tbody tr th:only-of-type {\n",
                            "        vertical-align: middle;\n",
                            "    }\n",
                            "\n",
                            "    .dataframe tbody tr th {\n",
                            "        vertical-align: top;\n",
                            "    }\n",
                            "\n",
                            "    .dataframe thead th {\n",
                            "        text-align: right;\n",
                            "    }\n",
                            "</style>\n",
                            "<table border=\"1\" class=\"dataframe\">\n",
                            "  <thead>\n",
                            "    <tr style=\"text-align: right;\">\n",
                            "      <th></th>\n",
                            "      <th>ProductSubcategoryKey</th>\n",
                            "      <th>ProductSubcategoryName</th>\n",
                            "      <th>ProductSubcategoryDescription</th>\n",
                            "      <th>ProductCategoryKey</th>\n",
                            "    </tr>\n",
                            "  </thead>\n",
                            "  <tbody>\n",
                            "    <tr>\n",
                            "      <th>0</th>\n",
                            "      <td>1</td>\n",
                            "      <td>MP4&amp;MP3</td>\n",
                            "      <td>MP4&amp;MP3</td>\n",
                            "      <td>1</td>\n",
                            "    </tr>\n",
                            "    <tr>\n",
                            "      <th>1</th>\n",
                            "      <td>2</td>\n",
                            "      <td>Recorder</td>\n",
                            "      <td>Recorder</td>\n",
                            "      <td>1</td>\n",
                            "    </tr>\n",
                            "    <tr>\n",
                            "      <th>2</th>\n",
                            "      <td>3</td>\n",
                            "      <td>Radio</td>\n",
                            "      <td>Radio</td>\n",
                            "      <td>1</td>\n",
                            "    </tr>\n",
                            "    <tr>\n",
                            "      <th>3</th>\n",
                            "      <td>4</td>\n",
                            "      <td>Recording Pen</td>\n",
                            "      <td>Recording Pen</td>\n",
                            "      <td>1</td>\n",
                            "    </tr>\n",
                            "    <tr>\n",
                            "      <th>4</th>\n",
                            "      <td>5</td>\n",
                            "      <td>Headphones</td>\n",
                            "      <td>Headphones</td>\n",
                            "      <td>1</td>\n",
                            "    </tr>\n",
                            "  </tbody>\n",
                            "</table>\n",
                            "</div>"
                        ]
                    },
                    "metadata": {},
                    "execution_count": 34
                }
            ],
            "metadata": {}
        },
        {
            "cell_type": "markdown",
            "source": [
                "There should not be any duplicated Key"
            ],
            "metadata": {}
        },
        {
            "cell_type": "code",
            "execution_count": 35,
            "source": [
                "prodSubCat.duplicated(subset='ProductSubcategoryKey').sum()"
            ],
            "outputs": [
                {
                    "output_type": "execute_result",
                    "data": {
                        "text/plain": [
                            "0"
                        ]
                    },
                    "metadata": {},
                    "execution_count": 35
                }
            ],
            "metadata": {}
        },
        {
            "cell_type": "markdown",
            "source": [
                "**CHECK FOR TYPOS IN CATEGORICAL DATA**"
            ],
            "metadata": {}
        },
        {
            "cell_type": "code",
            "execution_count": 36,
            "source": [
                "prodSubCat['ProductSubcategoryName'].value_counts().sort_index()"
            ],
            "outputs": [
                {
                    "output_type": "execute_result",
                    "data": {
                        "text/plain": [
                            "Air Conditioners                    1\n",
                            "Audio Accessories                   1\n",
                            "Audio Books                         1\n",
                            "Bluetooth Headphones                1\n",
                            "Boxed Games                         1\n",
                            "Camcorders                          1\n",
                            "Cameras & Camcorders Accessories    1\n",
                            "Car Video                           1\n",
                            "Cell phones Accessories             1\n",
                            "Coffee Machines                     1\n",
                            "Computer Setup & Service            1\n",
                            "Computers Accessories               1\n",
                            "Desktops                            1\n",
                            "Digital Cameras                     1\n",
                            "Digital SLR Cameras                 1\n",
                            "Download Games                      1\n",
                            "Fans                                1\n",
                            "Film Cameras                        1\n",
                            "Games Accessories                   1\n",
                            "Headphones                          1\n",
                            "Home & Office Phones                1\n",
                            "Home Theater System                 1\n",
                            "Lamps                               1\n",
                            "Laptops                             1\n",
                            "MP4&MP3                             1\n",
                            "Microwaves                          1\n",
                            "Monitors                            1\n",
                            "Movie DVD                           1\n",
                            "Music CD                            1\n",
                            "Netbooks                            1\n",
                            "Printers, Scanners & Fax            1\n",
                            "Projectors & Screens                1\n",
                            "Radio                               1\n",
                            "Recorder                            1\n",
                            "Recording Pen                       1\n",
                            "Refrigerators                       1\n",
                            "Smart phones & PDAs                 1\n",
                            "Speakers                            1\n",
                            "TV & Video Accessories              1\n",
                            "Televisions                         1\n",
                            "Touch Screen Phones                 1\n",
                            "VCD & DVD                           1\n",
                            "Washers & Dryers                    1\n",
                            "Water Heaters                       1\n",
                            "Name: ProductSubcategoryName, dtype: int64"
                        ]
                    },
                    "metadata": {},
                    "execution_count": 36
                }
            ],
            "metadata": {}
        },
        {
            "cell_type": "code",
            "execution_count": 37,
            "source": [
                "prodSubCat['ProductSubcategoryName'] = prodSubCat['ProductSubcategoryName'].astype('category')"
            ],
            "outputs": [],
            "metadata": {}
        },
        {
            "cell_type": "markdown",
            "source": [
                "### 3. CATEGORIES"
            ],
            "metadata": {}
        },
        {
            "cell_type": "markdown",
            "source": [
                "**DROP UNHELPFUL COLUMNS AND ROWS**"
            ],
            "metadata": {}
        },
        {
            "cell_type": "code",
            "execution_count": 38,
            "source": [
                "prodCat.drop(['ProductCategoryLabel','ETLLoadID','LoadDate','UpdateDate'], axis=1, inplace=True)"
            ],
            "outputs": [],
            "metadata": {}
        },
        {
            "cell_type": "code",
            "execution_count": 39,
            "source": [
                "prodCat.head()"
            ],
            "outputs": [
                {
                    "output_type": "execute_result",
                    "data": {
                        "text/plain": [
                            "   ProductCategoryKey      ProductCategoryName ProductCategoryDescription\n",
                            "0                   1                    Audio                      Audio\n",
                            "1                   2             TV and Video               TV and Video\n",
                            "2                   3                Computers                  Computers\n",
                            "3                   4  Cameras and camcorders     Cameras and camcorders \n",
                            "4                   5              Cell phones                Cell phones"
                        ],
                        "text/html": [
                            "<div>\n",
                            "<style scoped>\n",
                            "    .dataframe tbody tr th:only-of-type {\n",
                            "        vertical-align: middle;\n",
                            "    }\n",
                            "\n",
                            "    .dataframe tbody tr th {\n",
                            "        vertical-align: top;\n",
                            "    }\n",
                            "\n",
                            "    .dataframe thead th {\n",
                            "        text-align: right;\n",
                            "    }\n",
                            "</style>\n",
                            "<table border=\"1\" class=\"dataframe\">\n",
                            "  <thead>\n",
                            "    <tr style=\"text-align: right;\">\n",
                            "      <th></th>\n",
                            "      <th>ProductCategoryKey</th>\n",
                            "      <th>ProductCategoryName</th>\n",
                            "      <th>ProductCategoryDescription</th>\n",
                            "    </tr>\n",
                            "  </thead>\n",
                            "  <tbody>\n",
                            "    <tr>\n",
                            "      <th>0</th>\n",
                            "      <td>1</td>\n",
                            "      <td>Audio</td>\n",
                            "      <td>Audio</td>\n",
                            "    </tr>\n",
                            "    <tr>\n",
                            "      <th>1</th>\n",
                            "      <td>2</td>\n",
                            "      <td>TV and Video</td>\n",
                            "      <td>TV and Video</td>\n",
                            "    </tr>\n",
                            "    <tr>\n",
                            "      <th>2</th>\n",
                            "      <td>3</td>\n",
                            "      <td>Computers</td>\n",
                            "      <td>Computers</td>\n",
                            "    </tr>\n",
                            "    <tr>\n",
                            "      <th>3</th>\n",
                            "      <td>4</td>\n",
                            "      <td>Cameras and camcorders</td>\n",
                            "      <td>Cameras and camcorders</td>\n",
                            "    </tr>\n",
                            "    <tr>\n",
                            "      <th>4</th>\n",
                            "      <td>5</td>\n",
                            "      <td>Cell phones</td>\n",
                            "      <td>Cell phones</td>\n",
                            "    </tr>\n",
                            "  </tbody>\n",
                            "</table>\n",
                            "</div>"
                        ]
                    },
                    "metadata": {},
                    "execution_count": 39
                }
            ],
            "metadata": {}
        },
        {
            "cell_type": "markdown",
            "source": [
                "There should not be any duplicated Key"
            ],
            "metadata": {}
        },
        {
            "cell_type": "code",
            "execution_count": 40,
            "source": [
                "prodCat.duplicated(subset='ProductCategoryKey').sum()"
            ],
            "outputs": [
                {
                    "output_type": "execute_result",
                    "data": {
                        "text/plain": [
                            "0"
                        ]
                    },
                    "metadata": {},
                    "execution_count": 40
                }
            ],
            "metadata": {}
        },
        {
            "cell_type": "markdown",
            "source": [
                "**CHECK FOR TYPOS IN CATEGORICAL VARIABLES**"
            ],
            "metadata": {}
        },
        {
            "cell_type": "code",
            "execution_count": 41,
            "source": [
                "prodCat['ProductCategoryName'].value_counts().sort_index()"
            ],
            "outputs": [
                {
                    "output_type": "execute_result",
                    "data": {
                        "text/plain": [
                            "Audio                            1\n",
                            "Cameras and camcorders           1\n",
                            "Cell phones                      1\n",
                            "Computers                        1\n",
                            "Games and Toys                   1\n",
                            "Home Appliances                  1\n",
                            "Music, Movies and Audio Books    1\n",
                            "TV and Video                     1\n",
                            "Name: ProductCategoryName, dtype: int64"
                        ]
                    },
                    "metadata": {},
                    "execution_count": 41
                }
            ],
            "metadata": {}
        },
        {
            "cell_type": "code",
            "execution_count": 42,
            "source": [
                "prodCat['ProductCategoryName'] = prodCat['ProductCategoryName'].astype('category')"
            ],
            "outputs": [],
            "metadata": {}
        },
        {
            "cell_type": "markdown",
            "source": [
                "**MERGE SUBCATEGORIES AND CATEGORIES INTO PRODUCTS**"
            ],
            "metadata": {}
        },
        {
            "cell_type": "markdown",
            "source": [
                "First, categories with subcategories"
            ],
            "metadata": {}
        },
        {
            "cell_type": "code",
            "execution_count": 43,
            "source": [
                "prodSubCat = prodSubCat.merge(prodCat, how='left', on='ProductCategoryKey').drop('ProductCategoryKey', axis=1)\r\n",
                "prodSubCat.head()"
            ],
            "outputs": [
                {
                    "output_type": "execute_result",
                    "data": {
                        "text/plain": [
                            "   ProductSubcategoryKey ProductSubcategoryName ProductSubcategoryDescription  \\\n",
                            "0                      1                MP4&MP3                       MP4&MP3   \n",
                            "1                      2               Recorder                      Recorder   \n",
                            "2                      3                  Radio                         Radio   \n",
                            "3                      4          Recording Pen                 Recording Pen   \n",
                            "4                      5             Headphones                    Headphones   \n",
                            "\n",
                            "  ProductCategoryName ProductCategoryDescription  \n",
                            "0               Audio                      Audio  \n",
                            "1               Audio                      Audio  \n",
                            "2               Audio                      Audio  \n",
                            "3               Audio                      Audio  \n",
                            "4               Audio                      Audio  "
                        ],
                        "text/html": [
                            "<div>\n",
                            "<style scoped>\n",
                            "    .dataframe tbody tr th:only-of-type {\n",
                            "        vertical-align: middle;\n",
                            "    }\n",
                            "\n",
                            "    .dataframe tbody tr th {\n",
                            "        vertical-align: top;\n",
                            "    }\n",
                            "\n",
                            "    .dataframe thead th {\n",
                            "        text-align: right;\n",
                            "    }\n",
                            "</style>\n",
                            "<table border=\"1\" class=\"dataframe\">\n",
                            "  <thead>\n",
                            "    <tr style=\"text-align: right;\">\n",
                            "      <th></th>\n",
                            "      <th>ProductSubcategoryKey</th>\n",
                            "      <th>ProductSubcategoryName</th>\n",
                            "      <th>ProductSubcategoryDescription</th>\n",
                            "      <th>ProductCategoryName</th>\n",
                            "      <th>ProductCategoryDescription</th>\n",
                            "    </tr>\n",
                            "  </thead>\n",
                            "  <tbody>\n",
                            "    <tr>\n",
                            "      <th>0</th>\n",
                            "      <td>1</td>\n",
                            "      <td>MP4&amp;MP3</td>\n",
                            "      <td>MP4&amp;MP3</td>\n",
                            "      <td>Audio</td>\n",
                            "      <td>Audio</td>\n",
                            "    </tr>\n",
                            "    <tr>\n",
                            "      <th>1</th>\n",
                            "      <td>2</td>\n",
                            "      <td>Recorder</td>\n",
                            "      <td>Recorder</td>\n",
                            "      <td>Audio</td>\n",
                            "      <td>Audio</td>\n",
                            "    </tr>\n",
                            "    <tr>\n",
                            "      <th>2</th>\n",
                            "      <td>3</td>\n",
                            "      <td>Radio</td>\n",
                            "      <td>Radio</td>\n",
                            "      <td>Audio</td>\n",
                            "      <td>Audio</td>\n",
                            "    </tr>\n",
                            "    <tr>\n",
                            "      <th>3</th>\n",
                            "      <td>4</td>\n",
                            "      <td>Recording Pen</td>\n",
                            "      <td>Recording Pen</td>\n",
                            "      <td>Audio</td>\n",
                            "      <td>Audio</td>\n",
                            "    </tr>\n",
                            "    <tr>\n",
                            "      <th>4</th>\n",
                            "      <td>5</td>\n",
                            "      <td>Headphones</td>\n",
                            "      <td>Headphones</td>\n",
                            "      <td>Audio</td>\n",
                            "      <td>Audio</td>\n",
                            "    </tr>\n",
                            "  </tbody>\n",
                            "</table>\n",
                            "</div>"
                        ]
                    },
                    "metadata": {},
                    "execution_count": 43
                }
            ],
            "metadata": {}
        },
        {
            "cell_type": "markdown",
            "source": [
                "Then, the new dataframe with Products"
            ],
            "metadata": {}
        },
        {
            "cell_type": "code",
            "execution_count": 44,
            "source": [
                "products = products.merge(prodSubCat, how='left', on='ProductSubcategoryKey').drop('ProductSubcategoryKey', axis=1)\r\n",
                "products.head()"
            ],
            "outputs": [
                {
                    "output_type": "execute_result",
                    "data": {
                        "text/plain": [
                            "   ProductKey                          ProductName  \\\n",
                            "0           1  Contoso 512MB MP3 Player E51 Silver   \n",
                            "1           2    Contoso 512MB MP3 Player E51 Blue   \n",
                            "2           3     Contoso 1G MP3 Player E100 White   \n",
                            "3           4    Contoso 2G MP3 Player E200 Silver   \n",
                            "4           5       Contoso 2G MP3 Player E200 Red   \n",
                            "\n",
                            "                                  ProductDescription  Manufacturer BrandName  \\\n",
                            "0                 512MB USB driver plays MP3 and WMA  Contoso, Ltd   Contoso   \n",
                            "1                 512MB USB driver plays MP3 and WMA  Contoso, Ltd   Contoso   \n",
                            "2  1GB flash memory and USB driver plays MP3 and WMA  Contoso, Ltd   Contoso   \n",
                            "3   2GB flash memory, LCD display, plays MP3 and WMA  Contoso, Ltd   Contoso   \n",
                            "4   2GB flash memory, LCD display, plays MP3 and WMA  Contoso, Ltd   Contoso   \n",
                            "\n",
                            "  ClassName ColorName StockTypeName  UnitCost  UnitPrice  \\\n",
                            "0   Economy    Silver          High      6.62      12.99   \n",
                            "1   Economy      Blue          High      6.62      12.99   \n",
                            "2   Economy     White           Mid      7.40      14.52   \n",
                            "3   Economy    Silver           Mid     11.00      21.57   \n",
                            "4   Economy       Red           Mid     11.00      21.57   \n",
                            "\n",
                            "  ProductSubcategoryName ProductSubcategoryDescription ProductCategoryName  \\\n",
                            "0                MP4&MP3                       MP4&MP3               Audio   \n",
                            "1                MP4&MP3                       MP4&MP3               Audio   \n",
                            "2                MP4&MP3                       MP4&MP3               Audio   \n",
                            "3                MP4&MP3                       MP4&MP3               Audio   \n",
                            "4                MP4&MP3                       MP4&MP3               Audio   \n",
                            "\n",
                            "  ProductCategoryDescription  \n",
                            "0                      Audio  \n",
                            "1                      Audio  \n",
                            "2                      Audio  \n",
                            "3                      Audio  \n",
                            "4                      Audio  "
                        ],
                        "text/html": [
                            "<div>\n",
                            "<style scoped>\n",
                            "    .dataframe tbody tr th:only-of-type {\n",
                            "        vertical-align: middle;\n",
                            "    }\n",
                            "\n",
                            "    .dataframe tbody tr th {\n",
                            "        vertical-align: top;\n",
                            "    }\n",
                            "\n",
                            "    .dataframe thead th {\n",
                            "        text-align: right;\n",
                            "    }\n",
                            "</style>\n",
                            "<table border=\"1\" class=\"dataframe\">\n",
                            "  <thead>\n",
                            "    <tr style=\"text-align: right;\">\n",
                            "      <th></th>\n",
                            "      <th>ProductKey</th>\n",
                            "      <th>ProductName</th>\n",
                            "      <th>ProductDescription</th>\n",
                            "      <th>Manufacturer</th>\n",
                            "      <th>BrandName</th>\n",
                            "      <th>ClassName</th>\n",
                            "      <th>ColorName</th>\n",
                            "      <th>StockTypeName</th>\n",
                            "      <th>UnitCost</th>\n",
                            "      <th>UnitPrice</th>\n",
                            "      <th>ProductSubcategoryName</th>\n",
                            "      <th>ProductSubcategoryDescription</th>\n",
                            "      <th>ProductCategoryName</th>\n",
                            "      <th>ProductCategoryDescription</th>\n",
                            "    </tr>\n",
                            "  </thead>\n",
                            "  <tbody>\n",
                            "    <tr>\n",
                            "      <th>0</th>\n",
                            "      <td>1</td>\n",
                            "      <td>Contoso 512MB MP3 Player E51 Silver</td>\n",
                            "      <td>512MB USB driver plays MP3 and WMA</td>\n",
                            "      <td>Contoso, Ltd</td>\n",
                            "      <td>Contoso</td>\n",
                            "      <td>Economy</td>\n",
                            "      <td>Silver</td>\n",
                            "      <td>High</td>\n",
                            "      <td>6.62</td>\n",
                            "      <td>12.99</td>\n",
                            "      <td>MP4&amp;MP3</td>\n",
                            "      <td>MP4&amp;MP3</td>\n",
                            "      <td>Audio</td>\n",
                            "      <td>Audio</td>\n",
                            "    </tr>\n",
                            "    <tr>\n",
                            "      <th>1</th>\n",
                            "      <td>2</td>\n",
                            "      <td>Contoso 512MB MP3 Player E51 Blue</td>\n",
                            "      <td>512MB USB driver plays MP3 and WMA</td>\n",
                            "      <td>Contoso, Ltd</td>\n",
                            "      <td>Contoso</td>\n",
                            "      <td>Economy</td>\n",
                            "      <td>Blue</td>\n",
                            "      <td>High</td>\n",
                            "      <td>6.62</td>\n",
                            "      <td>12.99</td>\n",
                            "      <td>MP4&amp;MP3</td>\n",
                            "      <td>MP4&amp;MP3</td>\n",
                            "      <td>Audio</td>\n",
                            "      <td>Audio</td>\n",
                            "    </tr>\n",
                            "    <tr>\n",
                            "      <th>2</th>\n",
                            "      <td>3</td>\n",
                            "      <td>Contoso 1G MP3 Player E100 White</td>\n",
                            "      <td>1GB flash memory and USB driver plays MP3 and WMA</td>\n",
                            "      <td>Contoso, Ltd</td>\n",
                            "      <td>Contoso</td>\n",
                            "      <td>Economy</td>\n",
                            "      <td>White</td>\n",
                            "      <td>Mid</td>\n",
                            "      <td>7.40</td>\n",
                            "      <td>14.52</td>\n",
                            "      <td>MP4&amp;MP3</td>\n",
                            "      <td>MP4&amp;MP3</td>\n",
                            "      <td>Audio</td>\n",
                            "      <td>Audio</td>\n",
                            "    </tr>\n",
                            "    <tr>\n",
                            "      <th>3</th>\n",
                            "      <td>4</td>\n",
                            "      <td>Contoso 2G MP3 Player E200 Silver</td>\n",
                            "      <td>2GB flash memory, LCD display, plays MP3 and WMA</td>\n",
                            "      <td>Contoso, Ltd</td>\n",
                            "      <td>Contoso</td>\n",
                            "      <td>Economy</td>\n",
                            "      <td>Silver</td>\n",
                            "      <td>Mid</td>\n",
                            "      <td>11.00</td>\n",
                            "      <td>21.57</td>\n",
                            "      <td>MP4&amp;MP3</td>\n",
                            "      <td>MP4&amp;MP3</td>\n",
                            "      <td>Audio</td>\n",
                            "      <td>Audio</td>\n",
                            "    </tr>\n",
                            "    <tr>\n",
                            "      <th>4</th>\n",
                            "      <td>5</td>\n",
                            "      <td>Contoso 2G MP3 Player E200 Red</td>\n",
                            "      <td>2GB flash memory, LCD display, plays MP3 and WMA</td>\n",
                            "      <td>Contoso, Ltd</td>\n",
                            "      <td>Contoso</td>\n",
                            "      <td>Economy</td>\n",
                            "      <td>Red</td>\n",
                            "      <td>Mid</td>\n",
                            "      <td>11.00</td>\n",
                            "      <td>21.57</td>\n",
                            "      <td>MP4&amp;MP3</td>\n",
                            "      <td>MP4&amp;MP3</td>\n",
                            "      <td>Audio</td>\n",
                            "      <td>Audio</td>\n",
                            "    </tr>\n",
                            "  </tbody>\n",
                            "</table>\n",
                            "</div>"
                        ]
                    },
                    "metadata": {},
                    "execution_count": 44
                }
            ],
            "metadata": {}
        },
        {
            "cell_type": "markdown",
            "source": [
                "We can get rid of the descriptions too"
            ],
            "metadata": {}
        },
        {
            "cell_type": "code",
            "execution_count": 45,
            "source": [
                "products.drop(['ProductDescription','ProductSubcategoryDescription','ProductCategoryDescription'], axis=1, inplace=True)"
            ],
            "outputs": [],
            "metadata": {}
        },
        {
            "cell_type": "markdown",
            "source": [
                "Finally, rename the columns' names"
            ],
            "metadata": {}
        },
        {
            "cell_type": "code",
            "execution_count": 46,
            "source": [
                "products.rename({'ProductName':'Product','BrandName':'Brand','ClassName':'Class','ColorName':'Color','StockTypeName':'StockType','ProductSubcategoryName':'SubCategory','ProductCategoryName':'Category'}, axis=1, inplace=True)"
            ],
            "outputs": [],
            "metadata": {}
        },
        {
            "cell_type": "code",
            "execution_count": 47,
            "source": [
                "products.head()"
            ],
            "outputs": [
                {
                    "output_type": "execute_result",
                    "data": {
                        "text/plain": [
                            "   ProductKey                              Product  Manufacturer    Brand  \\\n",
                            "0           1  Contoso 512MB MP3 Player E51 Silver  Contoso, Ltd  Contoso   \n",
                            "1           2    Contoso 512MB MP3 Player E51 Blue  Contoso, Ltd  Contoso   \n",
                            "2           3     Contoso 1G MP3 Player E100 White  Contoso, Ltd  Contoso   \n",
                            "3           4    Contoso 2G MP3 Player E200 Silver  Contoso, Ltd  Contoso   \n",
                            "4           5       Contoso 2G MP3 Player E200 Red  Contoso, Ltd  Contoso   \n",
                            "\n",
                            "     Class   Color StockType  UnitCost  UnitPrice SubCategory Category  \n",
                            "0  Economy  Silver      High      6.62      12.99     MP4&MP3    Audio  \n",
                            "1  Economy    Blue      High      6.62      12.99     MP4&MP3    Audio  \n",
                            "2  Economy   White       Mid      7.40      14.52     MP4&MP3    Audio  \n",
                            "3  Economy  Silver       Mid     11.00      21.57     MP4&MP3    Audio  \n",
                            "4  Economy     Red       Mid     11.00      21.57     MP4&MP3    Audio  "
                        ],
                        "text/html": [
                            "<div>\n",
                            "<style scoped>\n",
                            "    .dataframe tbody tr th:only-of-type {\n",
                            "        vertical-align: middle;\n",
                            "    }\n",
                            "\n",
                            "    .dataframe tbody tr th {\n",
                            "        vertical-align: top;\n",
                            "    }\n",
                            "\n",
                            "    .dataframe thead th {\n",
                            "        text-align: right;\n",
                            "    }\n",
                            "</style>\n",
                            "<table border=\"1\" class=\"dataframe\">\n",
                            "  <thead>\n",
                            "    <tr style=\"text-align: right;\">\n",
                            "      <th></th>\n",
                            "      <th>ProductKey</th>\n",
                            "      <th>Product</th>\n",
                            "      <th>Manufacturer</th>\n",
                            "      <th>Brand</th>\n",
                            "      <th>Class</th>\n",
                            "      <th>Color</th>\n",
                            "      <th>StockType</th>\n",
                            "      <th>UnitCost</th>\n",
                            "      <th>UnitPrice</th>\n",
                            "      <th>SubCategory</th>\n",
                            "      <th>Category</th>\n",
                            "    </tr>\n",
                            "  </thead>\n",
                            "  <tbody>\n",
                            "    <tr>\n",
                            "      <th>0</th>\n",
                            "      <td>1</td>\n",
                            "      <td>Contoso 512MB MP3 Player E51 Silver</td>\n",
                            "      <td>Contoso, Ltd</td>\n",
                            "      <td>Contoso</td>\n",
                            "      <td>Economy</td>\n",
                            "      <td>Silver</td>\n",
                            "      <td>High</td>\n",
                            "      <td>6.62</td>\n",
                            "      <td>12.99</td>\n",
                            "      <td>MP4&amp;MP3</td>\n",
                            "      <td>Audio</td>\n",
                            "    </tr>\n",
                            "    <tr>\n",
                            "      <th>1</th>\n",
                            "      <td>2</td>\n",
                            "      <td>Contoso 512MB MP3 Player E51 Blue</td>\n",
                            "      <td>Contoso, Ltd</td>\n",
                            "      <td>Contoso</td>\n",
                            "      <td>Economy</td>\n",
                            "      <td>Blue</td>\n",
                            "      <td>High</td>\n",
                            "      <td>6.62</td>\n",
                            "      <td>12.99</td>\n",
                            "      <td>MP4&amp;MP3</td>\n",
                            "      <td>Audio</td>\n",
                            "    </tr>\n",
                            "    <tr>\n",
                            "      <th>2</th>\n",
                            "      <td>3</td>\n",
                            "      <td>Contoso 1G MP3 Player E100 White</td>\n",
                            "      <td>Contoso, Ltd</td>\n",
                            "      <td>Contoso</td>\n",
                            "      <td>Economy</td>\n",
                            "      <td>White</td>\n",
                            "      <td>Mid</td>\n",
                            "      <td>7.40</td>\n",
                            "      <td>14.52</td>\n",
                            "      <td>MP4&amp;MP3</td>\n",
                            "      <td>Audio</td>\n",
                            "    </tr>\n",
                            "    <tr>\n",
                            "      <th>3</th>\n",
                            "      <td>4</td>\n",
                            "      <td>Contoso 2G MP3 Player E200 Silver</td>\n",
                            "      <td>Contoso, Ltd</td>\n",
                            "      <td>Contoso</td>\n",
                            "      <td>Economy</td>\n",
                            "      <td>Silver</td>\n",
                            "      <td>Mid</td>\n",
                            "      <td>11.00</td>\n",
                            "      <td>21.57</td>\n",
                            "      <td>MP4&amp;MP3</td>\n",
                            "      <td>Audio</td>\n",
                            "    </tr>\n",
                            "    <tr>\n",
                            "      <th>4</th>\n",
                            "      <td>5</td>\n",
                            "      <td>Contoso 2G MP3 Player E200 Red</td>\n",
                            "      <td>Contoso, Ltd</td>\n",
                            "      <td>Contoso</td>\n",
                            "      <td>Economy</td>\n",
                            "      <td>Red</td>\n",
                            "      <td>Mid</td>\n",
                            "      <td>11.00</td>\n",
                            "      <td>21.57</td>\n",
                            "      <td>MP4&amp;MP3</td>\n",
                            "      <td>Audio</td>\n",
                            "    </tr>\n",
                            "  </tbody>\n",
                            "</table>\n",
                            "</div>"
                        ]
                    },
                    "metadata": {},
                    "execution_count": 47
                }
            ],
            "metadata": {}
        },
        {
            "cell_type": "code",
            "execution_count": 48,
            "source": [
                "del prodSubCat, prodCat"
            ],
            "outputs": [],
            "metadata": {}
        },
        {
            "cell_type": "markdown",
            "source": [
                "### 4. SALES"
            ],
            "metadata": {}
        },
        {
            "cell_type": "markdown",
            "source": [
                "**DROP UNHELPFUL COLUMNS AND ROWS**"
            ],
            "metadata": {}
        },
        {
            "cell_type": "code",
            "execution_count": 49,
            "source": [
                "sales.drop(['SalesKey','channelKey','StoreKey','PromotionKey','CurrencyKey','ETLLoadID','LoadDate','UpdateDate'], axis=1, inplace=True)"
            ],
            "outputs": [],
            "metadata": {}
        },
        {
            "cell_type": "code",
            "execution_count": 50,
            "source": [
                "\r\n",
                "sales.head()"
            ],
            "outputs": [
                {
                    "output_type": "execute_result",
                    "data": {
                        "text/plain": [
                            "     DateKey  ProductKey  UnitCost  UnitPrice  SalesQuantity  ReturnQuantity  \\\n",
                            "0 2007-01-02         956     91.05      198.0              8               0   \n",
                            "1 2007-02-12         766     10.15       19.9              4               0   \n",
                            "2 2008-01-24        1175    209.03      410.0              9               0   \n",
                            "3 2008-01-13        1429    132.90      289.0              8               0   \n",
                            "4 2008-01-22        1133    144.52      436.2             24               0   \n",
                            "\n",
                            "   ReturnAmount  DiscountQuantity  DiscountAmount  TotalCost  SalesAmount  \n",
                            "0           0.0                 1          39.600     728.40     1544.400  \n",
                            "1           0.0                 1           0.995      40.60       78.605  \n",
                            "2           0.0                 3          61.500    1881.27     3628.500  \n",
                            "3           0.0                 1          57.800    1063.20     2254.200  \n",
                            "4           0.0                 3         261.720    3468.48    10207.080  "
                        ],
                        "text/html": [
                            "<div>\n",
                            "<style scoped>\n",
                            "    .dataframe tbody tr th:only-of-type {\n",
                            "        vertical-align: middle;\n",
                            "    }\n",
                            "\n",
                            "    .dataframe tbody tr th {\n",
                            "        vertical-align: top;\n",
                            "    }\n",
                            "\n",
                            "    .dataframe thead th {\n",
                            "        text-align: right;\n",
                            "    }\n",
                            "</style>\n",
                            "<table border=\"1\" class=\"dataframe\">\n",
                            "  <thead>\n",
                            "    <tr style=\"text-align: right;\">\n",
                            "      <th></th>\n",
                            "      <th>DateKey</th>\n",
                            "      <th>ProductKey</th>\n",
                            "      <th>UnitCost</th>\n",
                            "      <th>UnitPrice</th>\n",
                            "      <th>SalesQuantity</th>\n",
                            "      <th>ReturnQuantity</th>\n",
                            "      <th>ReturnAmount</th>\n",
                            "      <th>DiscountQuantity</th>\n",
                            "      <th>DiscountAmount</th>\n",
                            "      <th>TotalCost</th>\n",
                            "      <th>SalesAmount</th>\n",
                            "    </tr>\n",
                            "  </thead>\n",
                            "  <tbody>\n",
                            "    <tr>\n",
                            "      <th>0</th>\n",
                            "      <td>2007-01-02</td>\n",
                            "      <td>956</td>\n",
                            "      <td>91.05</td>\n",
                            "      <td>198.0</td>\n",
                            "      <td>8</td>\n",
                            "      <td>0</td>\n",
                            "      <td>0.0</td>\n",
                            "      <td>1</td>\n",
                            "      <td>39.600</td>\n",
                            "      <td>728.40</td>\n",
                            "      <td>1544.400</td>\n",
                            "    </tr>\n",
                            "    <tr>\n",
                            "      <th>1</th>\n",
                            "      <td>2007-02-12</td>\n",
                            "      <td>766</td>\n",
                            "      <td>10.15</td>\n",
                            "      <td>19.9</td>\n",
                            "      <td>4</td>\n",
                            "      <td>0</td>\n",
                            "      <td>0.0</td>\n",
                            "      <td>1</td>\n",
                            "      <td>0.995</td>\n",
                            "      <td>40.60</td>\n",
                            "      <td>78.605</td>\n",
                            "    </tr>\n",
                            "    <tr>\n",
                            "      <th>2</th>\n",
                            "      <td>2008-01-24</td>\n",
                            "      <td>1175</td>\n",
                            "      <td>209.03</td>\n",
                            "      <td>410.0</td>\n",
                            "      <td>9</td>\n",
                            "      <td>0</td>\n",
                            "      <td>0.0</td>\n",
                            "      <td>3</td>\n",
                            "      <td>61.500</td>\n",
                            "      <td>1881.27</td>\n",
                            "      <td>3628.500</td>\n",
                            "    </tr>\n",
                            "    <tr>\n",
                            "      <th>3</th>\n",
                            "      <td>2008-01-13</td>\n",
                            "      <td>1429</td>\n",
                            "      <td>132.90</td>\n",
                            "      <td>289.0</td>\n",
                            "      <td>8</td>\n",
                            "      <td>0</td>\n",
                            "      <td>0.0</td>\n",
                            "      <td>1</td>\n",
                            "      <td>57.800</td>\n",
                            "      <td>1063.20</td>\n",
                            "      <td>2254.200</td>\n",
                            "    </tr>\n",
                            "    <tr>\n",
                            "      <th>4</th>\n",
                            "      <td>2008-01-22</td>\n",
                            "      <td>1133</td>\n",
                            "      <td>144.52</td>\n",
                            "      <td>436.2</td>\n",
                            "      <td>24</td>\n",
                            "      <td>0</td>\n",
                            "      <td>0.0</td>\n",
                            "      <td>3</td>\n",
                            "      <td>261.720</td>\n",
                            "      <td>3468.48</td>\n",
                            "      <td>10207.080</td>\n",
                            "    </tr>\n",
                            "  </tbody>\n",
                            "</table>\n",
                            "</div>"
                        ]
                    },
                    "metadata": {},
                    "execution_count": 50
                }
            ],
            "metadata": {}
        },
        {
            "cell_type": "markdown",
            "source": [
                "We will only keep the Gross Sales (Qty * unitPrice), the Total Cost and the Utility (Rename SalesAmount)"
            ],
            "metadata": {}
        },
        {
            "cell_type": "markdown",
            "source": [
                "Add the Gross Sales column"
            ],
            "metadata": {}
        },
        {
            "cell_type": "code",
            "execution_count": 51,
            "source": [
                "sales['GrossSales'] = sales['UnitPrice'] * sales['SalesQuantity']"
            ],
            "outputs": [],
            "metadata": {}
        },
        {
            "cell_type": "code",
            "execution_count": 52,
            "source": [
                "sales.drop(['UnitCost','UnitPrice','SalesQuantity','ReturnQuantity','ReturnAmount','DiscountQuantity','DiscountAmount'],axis=1, inplace=True)"
            ],
            "outputs": [],
            "metadata": {}
        },
        {
            "cell_type": "code",
            "execution_count": 53,
            "source": [
                "sales.rename({'SalesAmount':'Utility'}, axis=1, inplace=True)"
            ],
            "outputs": [],
            "metadata": {}
        },
        {
            "cell_type": "code",
            "execution_count": 54,
            "source": [
                "# Reorder the columns\r\n",
                "sales = sales[['DateKey','ProductKey','GrossSales','TotalCost','Utility']]"
            ],
            "outputs": [],
            "metadata": {}
        },
        {
            "cell_type": "code",
            "execution_count": 55,
            "source": [
                "sales.head()"
            ],
            "outputs": [
                {
                    "output_type": "execute_result",
                    "data": {
                        "text/plain": [
                            "     DateKey  ProductKey  GrossSales  TotalCost    Utility\n",
                            "0 2007-01-02         956      1584.0     728.40   1544.400\n",
                            "1 2007-02-12         766        79.6      40.60     78.605\n",
                            "2 2008-01-24        1175      3690.0    1881.27   3628.500\n",
                            "3 2008-01-13        1429      2312.0    1063.20   2254.200\n",
                            "4 2008-01-22        1133     10468.8    3468.48  10207.080"
                        ],
                        "text/html": [
                            "<div>\n",
                            "<style scoped>\n",
                            "    .dataframe tbody tr th:only-of-type {\n",
                            "        vertical-align: middle;\n",
                            "    }\n",
                            "\n",
                            "    .dataframe tbody tr th {\n",
                            "        vertical-align: top;\n",
                            "    }\n",
                            "\n",
                            "    .dataframe thead th {\n",
                            "        text-align: right;\n",
                            "    }\n",
                            "</style>\n",
                            "<table border=\"1\" class=\"dataframe\">\n",
                            "  <thead>\n",
                            "    <tr style=\"text-align: right;\">\n",
                            "      <th></th>\n",
                            "      <th>DateKey</th>\n",
                            "      <th>ProductKey</th>\n",
                            "      <th>GrossSales</th>\n",
                            "      <th>TotalCost</th>\n",
                            "      <th>Utility</th>\n",
                            "    </tr>\n",
                            "  </thead>\n",
                            "  <tbody>\n",
                            "    <tr>\n",
                            "      <th>0</th>\n",
                            "      <td>2007-01-02</td>\n",
                            "      <td>956</td>\n",
                            "      <td>1584.0</td>\n",
                            "      <td>728.40</td>\n",
                            "      <td>1544.400</td>\n",
                            "    </tr>\n",
                            "    <tr>\n",
                            "      <th>1</th>\n",
                            "      <td>2007-02-12</td>\n",
                            "      <td>766</td>\n",
                            "      <td>79.6</td>\n",
                            "      <td>40.60</td>\n",
                            "      <td>78.605</td>\n",
                            "    </tr>\n",
                            "    <tr>\n",
                            "      <th>2</th>\n",
                            "      <td>2008-01-24</td>\n",
                            "      <td>1175</td>\n",
                            "      <td>3690.0</td>\n",
                            "      <td>1881.27</td>\n",
                            "      <td>3628.500</td>\n",
                            "    </tr>\n",
                            "    <tr>\n",
                            "      <th>3</th>\n",
                            "      <td>2008-01-13</td>\n",
                            "      <td>1429</td>\n",
                            "      <td>2312.0</td>\n",
                            "      <td>1063.20</td>\n",
                            "      <td>2254.200</td>\n",
                            "    </tr>\n",
                            "    <tr>\n",
                            "      <th>4</th>\n",
                            "      <td>2008-01-22</td>\n",
                            "      <td>1133</td>\n",
                            "      <td>10468.8</td>\n",
                            "      <td>3468.48</td>\n",
                            "      <td>10207.080</td>\n",
                            "    </tr>\n",
                            "  </tbody>\n",
                            "</table>\n",
                            "</div>"
                        ]
                    },
                    "metadata": {},
                    "execution_count": 55
                }
            ],
            "metadata": {}
        },
        {
            "cell_type": "markdown",
            "source": [
                "**DEFINE THE APPROPRIATE DATA TYPES**"
            ],
            "metadata": {}
        },
        {
            "cell_type": "code",
            "execution_count": 56,
            "source": [
                "sales['DateKey'] = pd.to_datetime(sales['DateKey'])"
            ],
            "outputs": [],
            "metadata": {}
        },
        {
            "cell_type": "markdown",
            "source": [
                "**JOIN SALES AND PRODUCT**"
            ],
            "metadata": {}
        },
        {
            "cell_type": "code",
            "execution_count": 57,
            "source": [
                "products.head()"
            ],
            "outputs": [
                {
                    "output_type": "execute_result",
                    "data": {
                        "text/plain": [
                            "   ProductKey                              Product  Manufacturer    Brand  \\\n",
                            "0           1  Contoso 512MB MP3 Player E51 Silver  Contoso, Ltd  Contoso   \n",
                            "1           2    Contoso 512MB MP3 Player E51 Blue  Contoso, Ltd  Contoso   \n",
                            "2           3     Contoso 1G MP3 Player E100 White  Contoso, Ltd  Contoso   \n",
                            "3           4    Contoso 2G MP3 Player E200 Silver  Contoso, Ltd  Contoso   \n",
                            "4           5       Contoso 2G MP3 Player E200 Red  Contoso, Ltd  Contoso   \n",
                            "\n",
                            "     Class   Color StockType  UnitCost  UnitPrice SubCategory Category  \n",
                            "0  Economy  Silver      High      6.62      12.99     MP4&MP3    Audio  \n",
                            "1  Economy    Blue      High      6.62      12.99     MP4&MP3    Audio  \n",
                            "2  Economy   White       Mid      7.40      14.52     MP4&MP3    Audio  \n",
                            "3  Economy  Silver       Mid     11.00      21.57     MP4&MP3    Audio  \n",
                            "4  Economy     Red       Mid     11.00      21.57     MP4&MP3    Audio  "
                        ],
                        "text/html": [
                            "<div>\n",
                            "<style scoped>\n",
                            "    .dataframe tbody tr th:only-of-type {\n",
                            "        vertical-align: middle;\n",
                            "    }\n",
                            "\n",
                            "    .dataframe tbody tr th {\n",
                            "        vertical-align: top;\n",
                            "    }\n",
                            "\n",
                            "    .dataframe thead th {\n",
                            "        text-align: right;\n",
                            "    }\n",
                            "</style>\n",
                            "<table border=\"1\" class=\"dataframe\">\n",
                            "  <thead>\n",
                            "    <tr style=\"text-align: right;\">\n",
                            "      <th></th>\n",
                            "      <th>ProductKey</th>\n",
                            "      <th>Product</th>\n",
                            "      <th>Manufacturer</th>\n",
                            "      <th>Brand</th>\n",
                            "      <th>Class</th>\n",
                            "      <th>Color</th>\n",
                            "      <th>StockType</th>\n",
                            "      <th>UnitCost</th>\n",
                            "      <th>UnitPrice</th>\n",
                            "      <th>SubCategory</th>\n",
                            "      <th>Category</th>\n",
                            "    </tr>\n",
                            "  </thead>\n",
                            "  <tbody>\n",
                            "    <tr>\n",
                            "      <th>0</th>\n",
                            "      <td>1</td>\n",
                            "      <td>Contoso 512MB MP3 Player E51 Silver</td>\n",
                            "      <td>Contoso, Ltd</td>\n",
                            "      <td>Contoso</td>\n",
                            "      <td>Economy</td>\n",
                            "      <td>Silver</td>\n",
                            "      <td>High</td>\n",
                            "      <td>6.62</td>\n",
                            "      <td>12.99</td>\n",
                            "      <td>MP4&amp;MP3</td>\n",
                            "      <td>Audio</td>\n",
                            "    </tr>\n",
                            "    <tr>\n",
                            "      <th>1</th>\n",
                            "      <td>2</td>\n",
                            "      <td>Contoso 512MB MP3 Player E51 Blue</td>\n",
                            "      <td>Contoso, Ltd</td>\n",
                            "      <td>Contoso</td>\n",
                            "      <td>Economy</td>\n",
                            "      <td>Blue</td>\n",
                            "      <td>High</td>\n",
                            "      <td>6.62</td>\n",
                            "      <td>12.99</td>\n",
                            "      <td>MP4&amp;MP3</td>\n",
                            "      <td>Audio</td>\n",
                            "    </tr>\n",
                            "    <tr>\n",
                            "      <th>2</th>\n",
                            "      <td>3</td>\n",
                            "      <td>Contoso 1G MP3 Player E100 White</td>\n",
                            "      <td>Contoso, Ltd</td>\n",
                            "      <td>Contoso</td>\n",
                            "      <td>Economy</td>\n",
                            "      <td>White</td>\n",
                            "      <td>Mid</td>\n",
                            "      <td>7.40</td>\n",
                            "      <td>14.52</td>\n",
                            "      <td>MP4&amp;MP3</td>\n",
                            "      <td>Audio</td>\n",
                            "    </tr>\n",
                            "    <tr>\n",
                            "      <th>3</th>\n",
                            "      <td>4</td>\n",
                            "      <td>Contoso 2G MP3 Player E200 Silver</td>\n",
                            "      <td>Contoso, Ltd</td>\n",
                            "      <td>Contoso</td>\n",
                            "      <td>Economy</td>\n",
                            "      <td>Silver</td>\n",
                            "      <td>Mid</td>\n",
                            "      <td>11.00</td>\n",
                            "      <td>21.57</td>\n",
                            "      <td>MP4&amp;MP3</td>\n",
                            "      <td>Audio</td>\n",
                            "    </tr>\n",
                            "    <tr>\n",
                            "      <th>4</th>\n",
                            "      <td>5</td>\n",
                            "      <td>Contoso 2G MP3 Player E200 Red</td>\n",
                            "      <td>Contoso, Ltd</td>\n",
                            "      <td>Contoso</td>\n",
                            "      <td>Economy</td>\n",
                            "      <td>Red</td>\n",
                            "      <td>Mid</td>\n",
                            "      <td>11.00</td>\n",
                            "      <td>21.57</td>\n",
                            "      <td>MP4&amp;MP3</td>\n",
                            "      <td>Audio</td>\n",
                            "    </tr>\n",
                            "  </tbody>\n",
                            "</table>\n",
                            "</div>"
                        ]
                    },
                    "metadata": {},
                    "execution_count": 57
                }
            ],
            "metadata": {}
        },
        {
            "cell_type": "code",
            "execution_count": 58,
            "source": [
                "sales = sales.merge(products, how='left', on='ProductKey').drop('ProductKey', axis=1)"
            ],
            "outputs": [],
            "metadata": {}
        },
        {
            "cell_type": "code",
            "execution_count": 59,
            "source": [
                "sales.head()"
            ],
            "outputs": [
                {
                    "output_type": "execute_result",
                    "data": {
                        "text/plain": [
                            "     DateKey  GrossSales  TotalCost    Utility  \\\n",
                            "0 2007-01-02      1584.0     728.40   1544.400   \n",
                            "1 2007-02-12        79.6      40.60     78.605   \n",
                            "2 2008-01-24      3690.0    1881.27   3628.500   \n",
                            "3 2008-01-13      2312.0    1063.20   2254.200   \n",
                            "4 2008-01-22     10468.8    3468.48  10207.080   \n",
                            "\n",
                            "                                             Product          Manufacturer  \\\n",
                            "0     A. Datum Point Shoot Digital Camera M500 Black  A. Datum Corporation   \n",
                            "1          Contoso Battery charger - bike E200 Black          Contoso, Ltd   \n",
                            "2   Fabrikam Budget Moviemaker 2/3'' 17mm E100 White        Fabrikam, Inc.   \n",
                            "3  The Phone Company Touch Screen Phones 4-Wire/O...     The Phone Company   \n",
                            "4                  Fabrikam SLR Camera 35\" X358 Blue        Fabrikam, Inc.   \n",
                            "\n",
                            "               Brand    Class  Color StockType  UnitCost  UnitPrice  \\\n",
                            "0           A. Datum  Regular  Black      High     91.05      198.0   \n",
                            "1            Contoso  Economy  Black      High     10.15       19.9   \n",
                            "2           Fabrikam  Regular  White       Low    209.03      410.0   \n",
                            "3  The Phone Company  Regular   Grey      High    132.90      289.0   \n",
                            "4           Fabrikam  Regular   Blue      High    144.52      436.2   \n",
                            "\n",
                            "             SubCategory                 Category  \n",
                            "0        Digital Cameras  Cameras and camcorders   \n",
                            "1  Computers Accessories                Computers  \n",
                            "2             Camcorders  Cameras and camcorders   \n",
                            "3   Touch Screen Phones               Cell phones  \n",
                            "4    Digital SLR Cameras  Cameras and camcorders   "
                        ],
                        "text/html": [
                            "<div>\n",
                            "<style scoped>\n",
                            "    .dataframe tbody tr th:only-of-type {\n",
                            "        vertical-align: middle;\n",
                            "    }\n",
                            "\n",
                            "    .dataframe tbody tr th {\n",
                            "        vertical-align: top;\n",
                            "    }\n",
                            "\n",
                            "    .dataframe thead th {\n",
                            "        text-align: right;\n",
                            "    }\n",
                            "</style>\n",
                            "<table border=\"1\" class=\"dataframe\">\n",
                            "  <thead>\n",
                            "    <tr style=\"text-align: right;\">\n",
                            "      <th></th>\n",
                            "      <th>DateKey</th>\n",
                            "      <th>GrossSales</th>\n",
                            "      <th>TotalCost</th>\n",
                            "      <th>Utility</th>\n",
                            "      <th>Product</th>\n",
                            "      <th>Manufacturer</th>\n",
                            "      <th>Brand</th>\n",
                            "      <th>Class</th>\n",
                            "      <th>Color</th>\n",
                            "      <th>StockType</th>\n",
                            "      <th>UnitCost</th>\n",
                            "      <th>UnitPrice</th>\n",
                            "      <th>SubCategory</th>\n",
                            "      <th>Category</th>\n",
                            "    </tr>\n",
                            "  </thead>\n",
                            "  <tbody>\n",
                            "    <tr>\n",
                            "      <th>0</th>\n",
                            "      <td>2007-01-02</td>\n",
                            "      <td>1584.0</td>\n",
                            "      <td>728.40</td>\n",
                            "      <td>1544.400</td>\n",
                            "      <td>A. Datum Point Shoot Digital Camera M500 Black</td>\n",
                            "      <td>A. Datum Corporation</td>\n",
                            "      <td>A. Datum</td>\n",
                            "      <td>Regular</td>\n",
                            "      <td>Black</td>\n",
                            "      <td>High</td>\n",
                            "      <td>91.05</td>\n",
                            "      <td>198.0</td>\n",
                            "      <td>Digital Cameras</td>\n",
                            "      <td>Cameras and camcorders</td>\n",
                            "    </tr>\n",
                            "    <tr>\n",
                            "      <th>1</th>\n",
                            "      <td>2007-02-12</td>\n",
                            "      <td>79.6</td>\n",
                            "      <td>40.60</td>\n",
                            "      <td>78.605</td>\n",
                            "      <td>Contoso Battery charger - bike E200 Black</td>\n",
                            "      <td>Contoso, Ltd</td>\n",
                            "      <td>Contoso</td>\n",
                            "      <td>Economy</td>\n",
                            "      <td>Black</td>\n",
                            "      <td>High</td>\n",
                            "      <td>10.15</td>\n",
                            "      <td>19.9</td>\n",
                            "      <td>Computers Accessories</td>\n",
                            "      <td>Computers</td>\n",
                            "    </tr>\n",
                            "    <tr>\n",
                            "      <th>2</th>\n",
                            "      <td>2008-01-24</td>\n",
                            "      <td>3690.0</td>\n",
                            "      <td>1881.27</td>\n",
                            "      <td>3628.500</td>\n",
                            "      <td>Fabrikam Budget Moviemaker 2/3'' 17mm E100 White</td>\n",
                            "      <td>Fabrikam, Inc.</td>\n",
                            "      <td>Fabrikam</td>\n",
                            "      <td>Regular</td>\n",
                            "      <td>White</td>\n",
                            "      <td>Low</td>\n",
                            "      <td>209.03</td>\n",
                            "      <td>410.0</td>\n",
                            "      <td>Camcorders</td>\n",
                            "      <td>Cameras and camcorders</td>\n",
                            "    </tr>\n",
                            "    <tr>\n",
                            "      <th>3</th>\n",
                            "      <td>2008-01-13</td>\n",
                            "      <td>2312.0</td>\n",
                            "      <td>1063.20</td>\n",
                            "      <td>2254.200</td>\n",
                            "      <td>The Phone Company Touch Screen Phones 4-Wire/O...</td>\n",
                            "      <td>The Phone Company</td>\n",
                            "      <td>The Phone Company</td>\n",
                            "      <td>Regular</td>\n",
                            "      <td>Grey</td>\n",
                            "      <td>High</td>\n",
                            "      <td>132.90</td>\n",
                            "      <td>289.0</td>\n",
                            "      <td>Touch Screen Phones</td>\n",
                            "      <td>Cell phones</td>\n",
                            "    </tr>\n",
                            "    <tr>\n",
                            "      <th>4</th>\n",
                            "      <td>2008-01-22</td>\n",
                            "      <td>10468.8</td>\n",
                            "      <td>3468.48</td>\n",
                            "      <td>10207.080</td>\n",
                            "      <td>Fabrikam SLR Camera 35\" X358 Blue</td>\n",
                            "      <td>Fabrikam, Inc.</td>\n",
                            "      <td>Fabrikam</td>\n",
                            "      <td>Regular</td>\n",
                            "      <td>Blue</td>\n",
                            "      <td>High</td>\n",
                            "      <td>144.52</td>\n",
                            "      <td>436.2</td>\n",
                            "      <td>Digital SLR Cameras</td>\n",
                            "      <td>Cameras and camcorders</td>\n",
                            "    </tr>\n",
                            "  </tbody>\n",
                            "</table>\n",
                            "</div>"
                        ]
                    },
                    "metadata": {},
                    "execution_count": 59
                }
            ],
            "metadata": {}
        },
        {
            "cell_type": "markdown",
            "source": [
                "The data is clean, the analysis can be performed now"
            ],
            "metadata": {}
        },
        {
            "cell_type": "markdown",
            "source": [
                "Before starting the analysis, we can enrich the data with date variables: year, month, day, weekday"
            ],
            "metadata": {}
        },
        {
            "cell_type": "code",
            "execution_count": 60,
            "source": [
                "sales['Year'] = sales['DateKey'].dt.year.astype('category')\r\n",
                "sales['Month'] = sales['DateKey'].dt.month_name().astype('category')\r\n",
                "sales['Day'] = sales['DateKey'].dt.day.astype('category')\r\n",
                "sales['WeekDay'] = sales['DateKey'].dt.day_name().astype('category')"
            ],
            "outputs": [],
            "metadata": {}
        },
        {
            "cell_type": "markdown",
            "source": [
                "For Month and Weekday, we need to validate the correct order of the categories"
            ],
            "metadata": {}
        },
        {
            "cell_type": "code",
            "execution_count": 61,
            "source": [
                "sales['Month'].cat.reorder_categories(['January','February','March','April','May','June','July','August','September','October','November','December'], inplace=True)\r\n",
                "sales['Month'].cat.rename_categories({'January':'Jan','February':'Feb','March':'Mar','April':'Apr','May':'May','June':'Jun','July':'Jul',\\\r\n",
                "                                        'August':'Aug','September':'Sep','October':'Oct','November':'Nov','December':'Dec'}, inplace=True)"
            ],
            "outputs": [],
            "metadata": {}
        },
        {
            "cell_type": "code",
            "execution_count": 62,
            "source": [
                "sales['WeekDay'].cat.reorder_categories(['Monday','Tuesday','Wednesday','Thursday','Friday','Saturday','Sunday'], inplace=True)"
            ],
            "outputs": [],
            "metadata": {}
        },
        {
            "cell_type": "markdown",
            "source": [
                "## DATA ANALYSIS"
            ],
            "metadata": {}
        },
        {
            "cell_type": "markdown",
            "source": [
                "### 1. HOW IS THIS YEAR UTILITY COMPARED TO PREVIOUS YEARS?"
            ],
            "metadata": {}
        },
        {
            "cell_type": "markdown",
            "source": [
                "Plot based on [this](https://lost-stats.github.io/Presentation/Figures/line_graph_with_labels_at_the_beginning_or_end.html) article"
            ],
            "metadata": {}
        },
        {
            "cell_type": "code",
            "execution_count": 163,
            "source": [
                "fig, ax = plt.subplots(figsize=(10,7))\r\n",
                "sns.lineplot(data=sales, x='Month', y='Utility', hue='Year', ax=ax, ci=None, legend=None, linewidth=3, palette='Blues')\r\n",
                "\r\n",
                "for line, name in zip(ax.lines, sales['Year'].cat.categories.tolist()):\r\n",
                "    y = line.get_ydata()[-1]\r\n",
                "    x = line.get_xdata()[-1]\r\n",
                "    \r\n",
                "    if not np.isfinite(y):\r\n",
                "        y=next(reversed(line.get_ydata()[~line.get_ydata().mask]),float(\"nan\"))\r\n",
                "    if not np.isfinite(y) or not np.isfinite(x):\r\n",
                "        continue\r\n",
                "    \r\n",
                "    text = ax.annotate(name,xy=(x, y),xytext=(0, 0),color=line.get_color(),xycoords=(ax.get_xaxis_transform(),ax.get_yaxis_transform()),textcoords=\"offset points\", size=15)\r\n",
                "    text_width = (text.get_window_extent(fig.canvas.get_renderer()).transformed(ax.transData.inverted()).width)\r\n",
                "\r\n",
                "    if np.isfinite(text_width):\r\n",
                "        ax.set_xlim(ax.get_xlim()[0], text.xy[0] + text_width * 1.05)\r\n",
                "\r\n",
                "ax.set_xlabel('')\r\n",
                "ax.set_ylabel('Utility',fontsize=15)\r\n",
                "ax.tick_params(labelsize=13)\r\n",
                "ax.spines['right'].set_visible(False)\r\n",
                "ax.spines['top'].set_visible(False)\r\n",
                "plt.suptitle('Utility - Year Comparison by Month', size=14, weight='bold')\r\n",
                "plt.title('Utility has increased compared to previous years.\\nAt the end of the year, utility was a little bit lower than previous year')"
            ],
            "outputs": [
                {
                    "output_type": "execute_result",
                    "data": {
                        "text/plain": [
                            "Text(0.5, 1.0, 'Utility has increased compared to previous years.\\nAt the end of the year, utility was a little bit lower than previous year')"
                        ]
                    },
                    "metadata": {},
                    "execution_count": 163
                },
                {
                    "output_type": "display_data",
                    "data": {
                        "text/plain": [
                            "<Figure size 720x504 with 1 Axes>"
                        ],
                        "image/png": "[encoded data removed]"
                    },
                    "metadata": {
                        "needs_background": "light"
                    }
                }
            ],
            "metadata": {}
        },
        {
            "cell_type": "markdown",
            "source": [
                "### 2. HOW DO SALES VARY ACCORDING TO DAY AND MONTH?\r\n"
            ],
            "metadata": {}
        },
        {
            "cell_type": "code",
            "execution_count": 146,
            "source": [
                "utilityDay = sales.groupby('WeekDay').agg({'Utility':np.mean})\r\n",
                "utilityMonth = sales.groupby('Month').agg({'Utility':np.mean})"
            ],
            "outputs": [],
            "metadata": {}
        },
        {
            "cell_type": "code",
            "execution_count": 147,
            "source": [
                "custom_palette = {}\r\n",
                "\r\n",
                "for x in set(utilityMonth.index):\r\n",
                "    if x == utilityMonth.idxmax().item():\r\n",
                "       custom_palette[x] = '#00BFC4'\r\n",
                "    elif x == utilityMonth.idxmin().item():\r\n",
                "        custom_palette[x] = '#FF3D41'\r\n",
                "    else:\r\n",
                "        custom_palette[x] = '#D2D4DC'"
            ],
            "outputs": [],
            "metadata": {}
        },
        {
            "cell_type": "code",
            "execution_count": 154,
            "source": [
                "fig, ax = plt.subplots(figsize=(20,7), ncols=2)\r\n",
                "\r\n",
                "sns.barplot(data=utilityDay, x=utilityDay.index, y='Utility', ax=ax[0], palette='PuBu')\r\n",
                "sns.barplot(data=utilityMonth, x=utilityMonth.index, y='Utility', ax=ax[1], palette=custom_palette)\r\n",
                "plt.suptitle('Utility - Year Comparison by Month', size=15, weight='bold', x=0.55)\r\n",
                "plt.title('No significant difference among the week days.\\nThe highest utility is in November, the lowest in January', x=0)\r\n",
                "\r\n",
                "ax[0].set_ylabel('Average Utility')\r\n",
                "ax[1].set_ylabel('Average Utility')\r\n",
                "ax[0].spines['right'].set_visible(False)\r\n",
                "ax[1].spines['right'].set_visible(False)\r\n",
                "ax[0].spines['top'].set_visible(False)\r\n",
                "ax[1].spines['top'].set_visible(False)\r\n",
                "ax[0].set_xlabel('')\r\n",
                "ax[1].set_xlabel('')\r\n"
            ],
            "outputs": [
                {
                    "output_type": "execute_result",
                    "data": {
                        "text/plain": [
                            "Text(0.5, 0, '')"
                        ]
                    },
                    "metadata": {},
                    "execution_count": 154
                },
                {
                    "output_type": "display_data",
                    "data": {
                        "text/plain": [
                            "<Figure size 1440x504 with 2 Axes>"
                        ],
                        "image/png": "[encoded data removed]"
                    },
                    "metadata": {
                        "needs_background": "light"
                    }
                }
            ],
            "metadata": {}
        },
        {
            "cell_type": "markdown",
            "source": [
                "### 3. HOW WAS THE PROFIT MARGIN FOR THE LAST YEAR?"
            ],
            "metadata": {}
        },
        {
            "cell_type": "code",
            "execution_count": 67,
            "source": [
                "SalesCost2009 = sales[sales['Year'] == 2009].groupby('Month').agg({'GrossSales':np.mean, 'TotalCost':np.mean, 'Utility':np.mean}).reset_index()"
            ],
            "outputs": [],
            "metadata": {}
        },
        {
            "cell_type": "code",
            "execution_count": 68,
            "source": [
                "SalesCost2009 = pd.melt(SalesCost2009, value_vars=['GrossSales','TotalCost','Utility'], var_name='Metric', value_name='Amount', id_vars='Month')"
            ],
            "outputs": [],
            "metadata": {}
        },
        {
            "cell_type": "code",
            "execution_count": 172,
            "source": [
                "SalesCost2009['Metric'] = SalesCost2009['Metric'].astype('category')"
            ],
            "outputs": [],
            "metadata": {}
        },
        {
            "cell_type": "code",
            "execution_count": 175,
            "source": [
                "fig, ax = plt.subplots(figsize=(10,7))\r\n",
                "sns.lineplot(data=SalesCost2009, x='Month', y='Amount', hue='Metric', legend=False)\r\n",
                "\r\n",
                "ax.set_xlabel('')\r\n",
                "ax.set_ylabel('Amount ($)',fontsize=13)\r\n",
                "ax.tick_params(labelsize=13)\r\n",
                "ax.spines['right'].set_visible(False)\r\n",
                "ax.spines['top'].set_visible(False)\r\n",
                "plt.suptitle('Profit Margin 2009', size=16, weight='bold')\r\n",
                "plt.title('Total costs were maintained at a low level throughout the year\\nIn Nov/Dec the profit margin decreased', size=12)\r\n",
                "\r\n",
                "\r\n",
                "for line, name in zip(ax.lines, SalesCost2009['Metric'].cat.categories.tolist()):\r\n",
                "    y = line.get_ydata()[-1]\r\n",
                "    x = line.get_xdata()[-1]\r\n",
                "    \r\n",
                "    if not np.isfinite(y):\r\n",
                "        y=next(reversed(line.get_ydata()[~line.get_ydata().mask]),float(\"nan\"))\r\n",
                "    if not np.isfinite(y) or not np.isfinite(x):\r\n",
                "        continue\r\n",
                "    \r\n",
                "    text = ax.annotate(name,xy=(x, y),xytext=(0, 0),color=line.get_color(),xycoords=(ax.get_xaxis_transform(),ax.get_yaxis_transform()),textcoords=\"offset points\", size=13)\r\n",
                "    text_width = (text.get_window_extent(fig.canvas.get_renderer()).transformed(ax.transData.inverted()).width)\r\n",
                "\r\n",
                "    if np.isfinite(text_width):\r\n",
                "        ax.set_xlim(ax.get_xlim()[0], text.xy[0] + text_width * 1.05)"
            ],
            "outputs": [
                {
                    "output_type": "display_data",
                    "data": {
                        "text/plain": [
                            "<Figure size 720x504 with 1 Axes>"
                        ],
                        "image/png": "[encoded data removed]"
                    },
                    "metadata": {
                        "needs_background": "light"
                    }
                }
            ],
            "metadata": {}
        },
        {
            "cell_type": "markdown",
            "source": [
                "### 4. PRODUCT SALES ANALYSIS"
            ],
            "metadata": {}
        },
        {
            "cell_type": "code",
            "execution_count": 71,
            "source": [
                "utilityCategory = sales.groupby(['Year','Category']).agg({'Utility':np.mean}).reset_index()"
            ],
            "outputs": [],
            "metadata": {}
        },
        {
            "cell_type": "code",
            "execution_count": 177,
            "source": [
                "custom_palette = {}\r\n",
                "\r\n",
                "for x in set(utilityCategory['Category']):\r\n",
                "    if x == 'TV and Video':\r\n",
                "       custom_palette[x] = '#00BFC4'\r\n",
                "    elif x == 'Music, Movies and Audio Books':\r\n",
                "        custom_palette[x] = '#FF3D41'\r\n",
                "    else:\r\n",
                "        custom_palette[x] = '#D2D4DC'\r\n",
                "\r\n",
                "fig, ax = plt.subplots(figsize=(10,8))\r\n",
                "sns.pointplot(data=utilityCategory, x='Year', y='Utility', hue='Category', palette=custom_palette)\r\n",
                "\r\n",
                "ax.set_xlabel('')\r\n",
                "ax.set_ylabel('Average Utility ($)',fontsize=13)\r\n",
                "ax.tick_params(labelsize=13)\r\n",
                "ax.spines['right'].set_visible(False)\r\n",
                "ax.spines['top'].set_visible(False)\r\n",
                "plt.suptitle('Category Utility - Year Comparison', size=16, weight='bold')\r\n",
                "plt.title('TV and Video had the highest increase\\nMusic, Movies and Audio Books utility decreased', size=12)\r\n",
                "plt.legend(bbox_to_anchor=(1.05, 1), loc=2, borderaxespad=0.)\r\n",
                "\r\n",
                "for c in utilityCategory['Category'].cat.categories.tolist():\r\n",
                "    y = utilityCategory[(utilityCategory['Year']==2009) & (utilityCategory['Category']==c)]['Utility']\r\n",
                "    if c == 'TV and Video':\r\n",
                "        ax.text(x=2.1,y=y, s=c, color='#00BFC4', fontsize=12)\r\n",
                "    elif c == 'Music, Movies and Audio Books':\r\n",
                "        ax.text(x=2.1,y=y-150, s=c, color='#FF3D41', fontsize=12)\r\n",
                "    else:\r\n",
                "        ax.text(x=2.1,y=y, s=c, color='#D2D4DC')\r\n",
                "    \r\n",
                "\r\n",
                "ax.legend().set_visible(False)\r\n"
            ],
            "outputs": [
                {
                    "output_type": "display_data",
                    "data": {
                        "text/plain": [
                            "<Figure size 720x576 with 1 Axes>"
                        ],
                        "image/png": "[encoded data removed]"
                    },
                    "metadata": {
                        "needs_background": "light"
                    }
                }
            ],
            "metadata": {}
        },
        {
            "cell_type": "markdown",
            "source": [
                "### 5. WHICH BRANDS GENERATED THE MOST REVENUE IN 2009?"
            ],
            "metadata": {}
        },
        {
            "cell_type": "markdown",
            "source": [
                "A treemap will be used to show the proportion of revenue generated by each brand\r\n",
                "\r\n",
                "Code based on [this article](https://medium.com/geekculture/how-to-plot-a-treemap-in-python-48743061cfda)"
            ],
            "metadata": {}
        },
        {
            "cell_type": "code",
            "execution_count": 205,
            "source": [
                "brands2009 = sales[sales['Year'] == 2009].groupby('Brand').agg({'Utility':np.mean}).sort_values('Utility', ascending=False).reset_index()"
            ],
            "outputs": [],
            "metadata": {}
        },
        {
            "cell_type": "code",
            "execution_count": 201,
            "source": [
                "import squarify\r\n",
                "import matplotlib"
            ],
            "outputs": [],
            "metadata": {}
        },
        {
            "cell_type": "code",
            "execution_count": 235,
            "source": [
                "fig, ax = plt.subplots(figsize=(18,10))\r\n",
                "cmap = matplotlib.cm.Blues\r\n",
                "norm = matplotlib.colors.Normalize(vmin=brands2009.Utility.min(), vmax=brands2009.Utility.max())\r\n",
                "colors = [cmap(norm(i)) for i in brands2009.Utility]\r\n",
                "\r\n",
                "squarify.plot(sizes=brands2009['Utility'], label=brands2009['Brand'], alpha=0.5, color=colors, text_kwargs={'fontsize':12})\r\n",
                "plt.title('Utility generated by Brand', fontsize=20, fontweight='bold', pad=20)\r\n",
                "plt.axis('off')\r\n",
                "tmapLabels = brands2009.apply(lambda x: str(x.Brand) + ': ' + str(round(x.Utility,2)), axis=1)\r\n",
                "plt.legend(handles=ax.containers[0],labels=list(tmapLabels), bbox_to_anchor=(1.02,1), prop={'size': 12})"
            ],
            "outputs": [
                {
                    "output_type": "execute_result",
                    "data": {
                        "text/plain": [
                            "<matplotlib.legend.Legend at 0x1b0b2ee8160>"
                        ]
                    },
                    "metadata": {},
                    "execution_count": 235
                },
                {
                    "output_type": "display_data",
                    "data": {
                        "text/plain": [
                            "<Figure size 1296x720 with 1 Axes>"
                        ],
                        "image/png": "[encoded data removed]"
                    },
                    "metadata": {
                        "needs_background": "light"
                    }
                }
            ],
            "metadata": {}
        }
    ],
    "metadata": {
        "orig_nbformat": 4,
        "language_info": {
            "name": "python",
            "version": "3.8.8",
            "mimetype": "text/x-python",
            "codemirror_mode": {
                "name": "ipython",
                "version": 3
            },
            "pygments_lexer": "ipython3",
            "nbconvert_exporter": "python",
            "file_extension": ".py"
        },
        "kernelspec": {
            "name": "python3",
            "display_name": "Python 3.8.8 64-bit ('base': conda)"
        },
        "interpreter": {
            "hash": "f295ec510066dddcc717ae6d4935b3ad0a45b533511561df7ff2b4bcd803903f"
        }
    },
    "nbformat": 4,
    "nbformat_minor": 2
}